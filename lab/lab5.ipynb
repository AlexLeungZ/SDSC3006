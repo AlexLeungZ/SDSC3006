{
 "cells": [
  {
   "cell_type": "markdown",
   "metadata": {},
   "source": [
    "### Loading liberary and dataset\n"
   ]
  },
  {
   "cell_type": "code",
   "execution_count": 1,
   "metadata": {
    "vscode": {
     "languageId": "r"
    }
   },
   "outputs": [],
   "source": [
    "library(ISLR2)\n",
    "library(boot)\n",
    "library(leaps)\n",
    "\n",
    "attach(Portfolio)\n"
   ]
  },
  {
   "cell_type": "markdown",
   "metadata": {},
   "source": [
    "### Alpha function\n"
   ]
  },
  {
   "cell_type": "code",
   "execution_count": 2,
   "metadata": {
    "vscode": {
     "languageId": "r"
    }
   },
   "outputs": [],
   "source": [
    "# Create a function to calculate alpha\n",
    "alpha.fn <- function(data, index) {\n",
    "    X <- data$X[index]\n",
    "    Y <- data$Y[index]\n",
    "    return(var(Y) - cov(X, Y)) / (var(X) + var(Y) - 2 * cov(X, Y))\n",
    "}\n"
   ]
  },
  {
   "cell_type": "markdown",
   "metadata": {},
   "source": [
    "### Bootstrap\n"
   ]
  },
  {
   "cell_type": "code",
   "execution_count": 3,
   "metadata": {
    "vscode": {
     "languageId": "r"
    }
   },
   "outputs": [
    {
     "data": {
      "text/html": [
       "0.681879176718024"
      ],
      "text/latex": [
       "0.681879176718024"
      ],
      "text/markdown": [
       "0.681879176718024"
      ],
      "text/plain": [
       "[1] 0.6818792"
      ]
     },
     "metadata": {},
     "output_type": "display_data"
    },
    {
     "data": {
      "text/html": [
       "0.774831292847958"
      ],
      "text/latex": [
       "0.774831292847958"
      ],
      "text/markdown": [
       "0.774831292847958"
      ],
      "text/plain": [
       "[1] 0.7748313"
      ]
     },
     "metadata": {},
     "output_type": "display_data"
    },
    {
     "data": {
      "text/plain": [
       "\n",
       "ORDINARY NONPARAMETRIC BOOTSTRAP\n",
       "\n",
       "\n",
       "Call:\n",
       "boot(data = Portfolio, statistic = alpha.fn, R = 1000)\n",
       "\n",
       "\n",
       "Bootstrap Statistics :\n",
       "     original      bias    std. error\n",
       "t1* 0.6818792 -0.01141145   0.1235559"
      ]
     },
     "metadata": {},
     "output_type": "display_data"
    }
   ],
   "source": [
    "# Estimate alpha using all 100 observations\n",
    "alpha.fn(Portfolio, 1:100)\n",
    "# Randomly select 100 observations from the dataset with replacement\n",
    "\n",
    "set.seed(1)\n",
    "alpha.fn(Portfolio, sample(100, 100, replace = T))\n",
    "# Estimates based on 1000 bootstrap samples\n",
    "\n",
    "boot(Portfolio, alpha.fn, R = 1000) # boot lib\n"
   ]
  },
  {
   "cell_type": "code",
   "execution_count": 4,
   "metadata": {
    "vscode": {
     "languageId": "r"
    }
   },
   "outputs": [
    {
     "name": "stdout",
     "output_type": "stream",
     "text": [
      "[1] \"Observation result: -0.3\"\n",
      "[1] \"Bootstrap result: -0.234\"\n"
     ]
    }
   ],
   "source": [
    "set.seed(1)\n",
    "a <- sample(-5:5, 10, replace = T)\n",
    "# The ground truth should be 0, as sample() has uniform distribution.\n",
    "print(paste0(\"Observation result: \", mean(a)))\n",
    "\n",
    "# mean(a)\n",
    "times <- 100\n",
    "bootstrat_result <- rep(NA, times)\n",
    "\n",
    "for (i in 1:times) {\n",
    "    ith_resample <- sample(a, 10, replace = T)\n",
    "    bootstrat_result[i] <- mean(ith_resample)\n",
    "}\n",
    "\n",
    "print(paste0(\"Bootstrap result: \", mean(bootstrat_result)))\n"
   ]
  },
  {
   "cell_type": "markdown",
   "metadata": {},
   "source": [
    "### Stepwise Selection\n"
   ]
  },
  {
   "cell_type": "markdown",
   "metadata": {},
   "source": [
    "#### Check missing values\n"
   ]
  },
  {
   "cell_type": "code",
   "execution_count": 5,
   "metadata": {
    "vscode": {
     "languageId": "r"
    }
   },
   "outputs": [
    {
     "data": {
      "text/html": [
       "<style>\n",
       ".list-inline {list-style: none; margin:0; padding: 0}\n",
       ".list-inline>li {display: inline-block}\n",
       ".list-inline>li:not(:last-child)::after {content: \"\\00b7\"; padding: 0 .5ex}\n",
       "</style>\n",
       "<ol class=list-inline><li>'AtBat'</li><li>'Hits'</li><li>'HmRun'</li><li>'Runs'</li><li>'RBI'</li><li>'Walks'</li><li>'Years'</li><li>'CAtBat'</li><li>'CHits'</li><li>'CHmRun'</li><li>'CRuns'</li><li>'CRBI'</li><li>'CWalks'</li><li>'League'</li><li>'Division'</li><li>'PutOuts'</li><li>'Assists'</li><li>'Errors'</li><li>'Salary'</li><li>'NewLeague'</li></ol>\n"
      ],
      "text/latex": [
       "\\begin{enumerate*}\n",
       "\\item 'AtBat'\n",
       "\\item 'Hits'\n",
       "\\item 'HmRun'\n",
       "\\item 'Runs'\n",
       "\\item 'RBI'\n",
       "\\item 'Walks'\n",
       "\\item 'Years'\n",
       "\\item 'CAtBat'\n",
       "\\item 'CHits'\n",
       "\\item 'CHmRun'\n",
       "\\item 'CRuns'\n",
       "\\item 'CRBI'\n",
       "\\item 'CWalks'\n",
       "\\item 'League'\n",
       "\\item 'Division'\n",
       "\\item 'PutOuts'\n",
       "\\item 'Assists'\n",
       "\\item 'Errors'\n",
       "\\item 'Salary'\n",
       "\\item 'NewLeague'\n",
       "\\end{enumerate*}\n"
      ],
      "text/markdown": [
       "1. 'AtBat'\n",
       "2. 'Hits'\n",
       "3. 'HmRun'\n",
       "4. 'Runs'\n",
       "5. 'RBI'\n",
       "6. 'Walks'\n",
       "7. 'Years'\n",
       "8. 'CAtBat'\n",
       "9. 'CHits'\n",
       "10. 'CHmRun'\n",
       "11. 'CRuns'\n",
       "12. 'CRBI'\n",
       "13. 'CWalks'\n",
       "14. 'League'\n",
       "15. 'Division'\n",
       "16. 'PutOuts'\n",
       "17. 'Assists'\n",
       "18. 'Errors'\n",
       "19. 'Salary'\n",
       "20. 'NewLeague'\n",
       "\n",
       "\n"
      ],
      "text/plain": [
       " [1] \"AtBat\"     \"Hits\"      \"HmRun\"     \"Runs\"      \"RBI\"       \"Walks\"    \n",
       " [7] \"Years\"     \"CAtBat\"    \"CHits\"     \"CHmRun\"    \"CRuns\"     \"CRBI\"     \n",
       "[13] \"CWalks\"    \"League\"    \"Division\"  \"PutOuts\"   \"Assists\"   \"Errors\"   \n",
       "[19] \"Salary\"    \"NewLeague\""
      ]
     },
     "metadata": {},
     "output_type": "display_data"
    },
    {
     "data": {
      "text/html": [
       "<style>\n",
       ".list-inline {list-style: none; margin:0; padding: 0}\n",
       ".list-inline>li {display: inline-block}\n",
       ".list-inline>li:not(:last-child)::after {content: \"\\00b7\"; padding: 0 .5ex}\n",
       "</style>\n",
       "<ol class=list-inline><li>322</li><li>20</li></ol>\n"
      ],
      "text/latex": [
       "\\begin{enumerate*}\n",
       "\\item 322\n",
       "\\item 20\n",
       "\\end{enumerate*}\n"
      ],
      "text/markdown": [
       "1. 322\n",
       "2. 20\n",
       "\n",
       "\n"
      ],
      "text/plain": [
       "[1] 322  20"
      ]
     },
     "metadata": {},
     "output_type": "display_data"
    },
    {
     "data": {
      "text/html": [
       "59"
      ],
      "text/latex": [
       "59"
      ],
      "text/markdown": [
       "59"
      ],
      "text/plain": [
       "[1] 59"
      ]
     },
     "metadata": {},
     "output_type": "display_data"
    }
   ],
   "source": [
    "names(Hitters)\n",
    "dim(Hitters)\n",
    "sum(is.na(Hitters$Salary)) # Total number of missing salary (\"NA\")\n"
   ]
  },
  {
   "cell_type": "markdown",
   "metadata": {},
   "source": [
    "#### Delete rows that have missing values\n"
   ]
  },
  {
   "cell_type": "code",
   "execution_count": 6,
   "metadata": {
    "vscode": {
     "languageId": "r"
    }
   },
   "outputs": [
    {
     "data": {
      "text/html": [
       "<style>\n",
       ".list-inline {list-style: none; margin:0; padding: 0}\n",
       ".list-inline>li {display: inline-block}\n",
       ".list-inline>li:not(:last-child)::after {content: \"\\00b7\"; padding: 0 .5ex}\n",
       "</style>\n",
       "<ol class=list-inline><li>263</li><li>20</li></ol>\n"
      ],
      "text/latex": [
       "\\begin{enumerate*}\n",
       "\\item 263\n",
       "\\item 20\n",
       "\\end{enumerate*}\n"
      ],
      "text/markdown": [
       "1. 263\n",
       "2. 20\n",
       "\n",
       "\n"
      ],
      "text/plain": [
       "[1] 263  20"
      ]
     },
     "metadata": {},
     "output_type": "display_data"
    },
    {
     "data": {
      "text/html": [
       "0"
      ],
      "text/latex": [
       "0"
      ],
      "text/markdown": [
       "0"
      ],
      "text/plain": [
       "[1] 0"
      ]
     },
     "metadata": {},
     "output_type": "display_data"
    }
   ],
   "source": [
    "Hitters <- na.omit(Hitters) # Remove rows with missing values in any variable\n",
    "dim(Hitters)\n",
    "sum(is.na(Hitters))\n"
   ]
  },
  {
   "cell_type": "code",
   "execution_count": 7,
   "metadata": {
    "vscode": {
     "languageId": "r"
    }
   },
   "outputs": [
    {
     "data": {
      "text/plain": [
       "Subset selection object\n",
       "Call: regsubsets.formula(Salary ~ ., Hitters)\n",
       "19 Variables  (and intercept)\n",
       "           Forced in Forced out\n",
       "AtBat          FALSE      FALSE\n",
       "Hits           FALSE      FALSE\n",
       "HmRun          FALSE      FALSE\n",
       "Runs           FALSE      FALSE\n",
       "RBI            FALSE      FALSE\n",
       "Walks          FALSE      FALSE\n",
       "Years          FALSE      FALSE\n",
       "CAtBat         FALSE      FALSE\n",
       "CHits          FALSE      FALSE\n",
       "CHmRun         FALSE      FALSE\n",
       "CRuns          FALSE      FALSE\n",
       "CRBI           FALSE      FALSE\n",
       "CWalks         FALSE      FALSE\n",
       "LeagueN        FALSE      FALSE\n",
       "DivisionW      FALSE      FALSE\n",
       "PutOuts        FALSE      FALSE\n",
       "Assists        FALSE      FALSE\n",
       "Errors         FALSE      FALSE\n",
       "NewLeagueN     FALSE      FALSE\n",
       "1 subsets of each size up to 8\n",
       "Selection Algorithm: exhaustive\n",
       "         AtBat Hits HmRun Runs RBI Walks Years CAtBat CHits CHmRun CRuns CRBI\n",
       "1  ( 1 ) \" \"   \" \"  \" \"   \" \"  \" \" \" \"   \" \"   \" \"    \" \"   \" \"    \" \"   \"*\" \n",
       "2  ( 1 ) \" \"   \"*\"  \" \"   \" \"  \" \" \" \"   \" \"   \" \"    \" \"   \" \"    \" \"   \"*\" \n",
       "3  ( 1 ) \" \"   \"*\"  \" \"   \" \"  \" \" \" \"   \" \"   \" \"    \" \"   \" \"    \" \"   \"*\" \n",
       "4  ( 1 ) \" \"   \"*\"  \" \"   \" \"  \" \" \" \"   \" \"   \" \"    \" \"   \" \"    \" \"   \"*\" \n",
       "5  ( 1 ) \"*\"   \"*\"  \" \"   \" \"  \" \" \" \"   \" \"   \" \"    \" \"   \" \"    \" \"   \"*\" \n",
       "6  ( 1 ) \"*\"   \"*\"  \" \"   \" \"  \" \" \"*\"   \" \"   \" \"    \" \"   \" \"    \" \"   \"*\" \n",
       "7  ( 1 ) \" \"   \"*\"  \" \"   \" \"  \" \" \"*\"   \" \"   \"*\"    \"*\"   \"*\"    \" \"   \" \" \n",
       "8  ( 1 ) \"*\"   \"*\"  \" \"   \" \"  \" \" \"*\"   \" \"   \" \"    \" \"   \"*\"    \"*\"   \" \" \n",
       "         CWalks LeagueN DivisionW PutOuts Assists Errors NewLeagueN\n",
       "1  ( 1 ) \" \"    \" \"     \" \"       \" \"     \" \"     \" \"    \" \"       \n",
       "2  ( 1 ) \" \"    \" \"     \" \"       \" \"     \" \"     \" \"    \" \"       \n",
       "3  ( 1 ) \" \"    \" \"     \" \"       \"*\"     \" \"     \" \"    \" \"       \n",
       "4  ( 1 ) \" \"    \" \"     \"*\"       \"*\"     \" \"     \" \"    \" \"       \n",
       "5  ( 1 ) \" \"    \" \"     \"*\"       \"*\"     \" \"     \" \"    \" \"       \n",
       "6  ( 1 ) \" \"    \" \"     \"*\"       \"*\"     \" \"     \" \"    \" \"       \n",
       "7  ( 1 ) \" \"    \" \"     \"*\"       \"*\"     \" \"     \" \"    \" \"       \n",
       "8  ( 1 ) \"*\"    \" \"     \"*\"       \"*\"     \" \"     \" \"    \" \"       "
      ]
     },
     "metadata": {},
     "output_type": "display_data"
    }
   ],
   "source": [
    "regfit.full <- regsubsets(Salary ~ ., Hitters)\n",
    "# Print the best set of predictors for each model size;\n",
    "# By default, only return results up to the best 8-predictor model\n",
    "summary(regfit.full)\n"
   ]
  },
  {
   "cell_type": "code",
   "execution_count": 8,
   "metadata": {
    "vscode": {
     "languageId": "r"
    }
   },
   "outputs": [
    {
     "data": {
      "text/html": [
       "<style>\n",
       ".list-inline {list-style: none; margin:0; padding: 0}\n",
       ".list-inline>li {display: inline-block}\n",
       ".list-inline>li:not(:last-child)::after {content: \"\\00b7\"; padding: 0 .5ex}\n",
       "</style>\n",
       "<ol class=list-inline><li>'which'</li><li>'rsq'</li><li>'rss'</li><li>'adjr2'</li><li>'cp'</li><li>'bic'</li><li>'outmat'</li><li>'obj'</li></ol>\n"
      ],
      "text/latex": [
       "\\begin{enumerate*}\n",
       "\\item 'which'\n",
       "\\item 'rsq'\n",
       "\\item 'rss'\n",
       "\\item 'adjr2'\n",
       "\\item 'cp'\n",
       "\\item 'bic'\n",
       "\\item 'outmat'\n",
       "\\item 'obj'\n",
       "\\end{enumerate*}\n"
      ],
      "text/markdown": [
       "1. 'which'\n",
       "2. 'rsq'\n",
       "3. 'rss'\n",
       "4. 'adjr2'\n",
       "5. 'cp'\n",
       "6. 'bic'\n",
       "7. 'outmat'\n",
       "8. 'obj'\n",
       "\n",
       "\n"
      ],
      "text/plain": [
       "[1] \"which\"  \"rsq\"    \"rss\"    \"adjr2\"  \"cp\"     \"bic\"    \"outmat\" \"obj\"   "
      ]
     },
     "metadata": {},
     "output_type": "display_data"
    }
   ],
   "source": [
    "# To return as many predictors as specified(Max=19)\n",
    "regfit.full <- regsubsets(Salary ~ ., data = Hitters, nvmax = 19)\n",
    "reg.summary <- summary(regfit.full)\n",
    "names(reg.summary)\n",
    "# summary(regfit.full)\n"
   ]
  },
  {
   "cell_type": "markdown",
   "metadata": {},
   "source": [
    "#### Plotting\n"
   ]
  },
  {
   "cell_type": "code",
   "execution_count": 9,
   "metadata": {
    "vscode": {
     "languageId": "r"
    }
   },
   "outputs": [
    {
     "data": {
      "image/png": "[encoded data removed]",
      "text/plain": [
       "plot without title"
      ]
     },
     "metadata": {
      "image/png": {
       "height": 420,
       "width": 420
      }
     },
     "output_type": "display_data"
    }
   ],
   "source": [
    "# Create figure contains four subfigure(2*2)\n",
    "par(mfrow = c(2, 2))\n",
    "# Figure 1 rss\n",
    "plot(reg.summary$rss, xlab = \"Number of predictors\", ylab = \"RSS\", type = \"l\")\n",
    "p <- which.min(reg.summary$rss)\n",
    "points(p, reg.summary$rss[p], col = \"red\", cex = 2, pch = 20)\n",
    "\n",
    "# Figure 2 adjr2\n",
    "plot(reg.summary$adjr2, xlab = \"Number of predictors\", ylab = \"Adjusted RSq\", type = \"l\")\n",
    "a <- which.max(reg.summary$adjr2)\n",
    "# Highlight maximizer\n",
    "points(a, reg.summary$adjr2[a], col = \"red\", cex = 2, pch = 20)\n",
    "\n",
    "# Figure 3 cp\n",
    "plot(reg.summary$cp, xlab = \"Number of predictors\", ylab = \"Cp\", type = \"l\")\n",
    "b <- which.min(reg.summary$cp)\n",
    "points(b, reg.summary$cp[b], col = \"red\", cex = 2, pch = 20)\n",
    "\n",
    "# Figure 4 bic\n",
    "plot(reg.summary$bic, xlab = \"Number of predictors\", ylab = \"BIC\", type = \"l\")\n",
    "c <- which.min(reg.summary$bic)\n",
    "points(c, reg.summary$bic[c], col = \"red\", cex = 2, pch = 20)\n",
    "# Print the coefficient estimates of the best model by BIC coef(regfit.full,c)\n"
   ]
  },
  {
   "cell_type": "code",
   "execution_count": 10,
   "metadata": {
    "vscode": {
     "languageId": "r"
    }
   },
   "outputs": [
    {
     "data": {
      "text/html": [
       "<style>\n",
       ".dl-inline {width: auto; margin:0; padding: 0}\n",
       ".dl-inline>dt, .dl-inline>dd {float: none; width: auto; display: inline-block}\n",
       ".dl-inline>dt::after {content: \":\\0020\"; padding-right: .5ex}\n",
       ".dl-inline>dt:not(:first-of-type) {padding-left: .5ex}\n",
       "</style><dl class=dl-inline><dt>(Intercept)</dt><dd>91.5117981171539</dd><dt>AtBat</dt><dd>-1.86858923135561</dd><dt>Hits</dt><dd>7.60439763117204</dd><dt>Walks</dt><dd>3.69764677424139</dd><dt>CRBI</dt><dd>0.643016935097332</dd><dt>DivisionW</dt><dd>-122.95153377292</dd><dt>PutOuts</dt><dd>0.264307605461511</dd></dl>\n"
      ],
      "text/latex": [
       "\\begin{description*}\n",
       "\\item[(Intercept)] 91.5117981171539\n",
       "\\item[AtBat] -1.86858923135561\n",
       "\\item[Hits] 7.60439763117204\n",
       "\\item[Walks] 3.69764677424139\n",
       "\\item[CRBI] 0.643016935097332\n",
       "\\item[DivisionW] -122.95153377292\n",
       "\\item[PutOuts] 0.264307605461511\n",
       "\\end{description*}\n"
      ],
      "text/markdown": [
       "(Intercept)\n",
       ":   91.5117981171539AtBat\n",
       ":   -1.86858923135561Hits\n",
       ":   7.60439763117204Walks\n",
       ":   3.69764677424139CRBI\n",
       ":   0.643016935097332DivisionW\n",
       ":   -122.95153377292PutOuts\n",
       ":   0.264307605461511\n",
       "\n"
      ],
      "text/plain": [
       " (Intercept)        AtBat         Hits        Walks         CRBI    DivisionW \n",
       "  91.5117981   -1.8685892    7.6043976    3.6976468    0.6430169 -122.9515338 \n",
       "     PutOuts \n",
       "   0.2643076 "
      ]
     },
     "metadata": {},
     "output_type": "display_data"
    }
   ],
   "source": [
    "coef(regfit.full, c)\n"
   ]
  },
  {
   "cell_type": "markdown",
   "metadata": {},
   "source": [
    "### Stepwise Selection - backward\n"
   ]
  },
  {
   "cell_type": "code",
   "execution_count": 11,
   "metadata": {
    "vscode": {
     "languageId": "r"
    }
   },
   "outputs": [
    {
     "name": "stdout",
     "output_type": "stream",
     "text": [
      " [1]  -90.84637 -128.92622 -135.62693 -141.80892 -144.07143 -147.91690\n",
      " [7] -144.77245 -147.38199 -145.44316 -143.21651 -138.86077 -133.87283\n",
      "[13] -128.77759 -123.64420 -118.21832 -112.81768 -107.35339 -101.86391\n",
      "[19]  -96.30412\n",
      " [1]  -88.97559 -124.18997 -134.21006 -137.33435 -140.61064 -143.14927\n",
      " [7] -144.98259 -147.38199 -145.44316 -143.21651 -138.86077 -133.87283\n",
      "[13] -128.77759 -123.64420 -118.21832 -112.81768 -107.35339 -101.86391\n",
      "[19]  -96.30412\n",
      " (Intercept)         Hits        Walks       CAtBat        CHits       CHmRun \n",
      "  79.4509472    1.2833513    3.2274264   -0.3752350    1.4957073    1.4420538 \n",
      "   DivisionW      PutOuts \n",
      "-129.9866432    0.2366813 \n",
      " (Intercept)        AtBat         Hits        Walks         CRBI       CWalks \n",
      " 109.7873062   -1.9588851    7.4498772    4.9131401    0.8537622   -0.3053070 \n",
      "   DivisionW      PutOuts \n",
      "-127.1223928    0.2533404 \n",
      " (Intercept)        AtBat         Hits        Walks        CRuns       CWalks \n",
      " 105.6487488   -1.9762838    6.7574914    6.0558691    1.1293095   -0.7163346 \n",
      "   DivisionW      PutOuts \n",
      "-116.1692169    0.3028847 \n"
     ]
    }
   ],
   "source": [
    "regfit.fwd <- regsubsets(Salary ~ ., data = Hitters, nvmax = 19, method = \"forward\")\n",
    "# summary(regfit.fwd)\n",
    "print(summary(regfit.fwd)$bic) # (or cp, adjr2)\n",
    "\n",
    "regfit.bwd <- regsubsets(Salary ~ ., data = Hitters, nvmax = 19, method = \"backward\")\n",
    "# summary(regfit.bwd)\n",
    "print(summary(regfit.bwd)$bic)\n",
    "\n",
    "# Print the coefficient estimates of the 7-predictor model\n",
    "print(coef(regfit.full, 7))\n",
    "print(coef(regfit.fwd, 7))\n",
    "print(coef(regfit.bwd, 7))\n"
   ]
  },
  {
   "cell_type": "markdown",
   "metadata": {},
   "source": [
    "### CV for model selection\n"
   ]
  },
  {
   "cell_type": "code",
   "execution_count": 12,
   "metadata": {
    "vscode": {
     "languageId": "r"
    }
   },
   "outputs": [
    {
     "data": {
      "text/html": [
       "<style>\n",
       ".list-inline {list-style: none; margin:0; padding: 0}\n",
       ".list-inline>li {display: inline-block}\n",
       ".list-inline>li:not(:last-child)::after {content: \"\\00b7\"; padding: 0 .5ex}\n",
       "</style>\n",
       "<ol class=list-inline><li>164377.260362341</li><li>144405.470709589</li><li>152175.69459474</li><li>145198.381708901</li><li>137902.113680192</li><li>139175.74540071</li><li>126848.963422889</li><li>136191.381502395</li><li>132889.632125506</li><li>135434.897163883</li><li>136963.294656889</li><li>140694.931446905</li><li>140690.940552605</li><li>141951.168986255</li><li>141508.153781646</li><li>142164.368072385</li><li>141767.40236927</li><li>142339.552749068</li><li>142238.156755267</li></ol>\n"
      ],
      "text/latex": [
       "\\begin{enumerate*}\n",
       "\\item 164377.260362341\n",
       "\\item 144405.470709589\n",
       "\\item 152175.69459474\n",
       "\\item 145198.381708901\n",
       "\\item 137902.113680192\n",
       "\\item 139175.74540071\n",
       "\\item 126848.963422889\n",
       "\\item 136191.381502395\n",
       "\\item 132889.632125506\n",
       "\\item 135434.897163883\n",
       "\\item 136963.294656889\n",
       "\\item 140694.931446905\n",
       "\\item 140690.940552605\n",
       "\\item 141951.168986255\n",
       "\\item 141508.153781646\n",
       "\\item 142164.368072385\n",
       "\\item 141767.40236927\n",
       "\\item 142339.552749068\n",
       "\\item 142238.156755267\n",
       "\\end{enumerate*}\n"
      ],
      "text/markdown": [
       "1. 164377.260362341\n",
       "2. 144405.470709589\n",
       "3. 152175.69459474\n",
       "4. 145198.381708901\n",
       "5. 137902.113680192\n",
       "6. 139175.74540071\n",
       "7. 126848.963422889\n",
       "8. 136191.381502395\n",
       "9. 132889.632125506\n",
       "10. 135434.897163883\n",
       "11. 136963.294656889\n",
       "12. 140694.931446905\n",
       "13. 140690.940552605\n",
       "14. 141951.168986255\n",
       "15. 141508.153781646\n",
       "16. 142164.368072385\n",
       "17. 141767.40236927\n",
       "18. 142339.552749068\n",
       "19. 142238.156755267\n",
       "\n",
       "\n"
      ],
      "text/plain": [
       " [1] 164377.3 144405.5 152175.7 145198.4 137902.1 139175.7 126849.0 136191.4\n",
       " [9] 132889.6 135434.9 136963.3 140694.9 140690.9 141951.2 141508.2 142164.4\n",
       "[17] 141767.4 142339.6 142238.2"
      ]
     },
     "metadata": {},
     "output_type": "display_data"
    }
   ],
   "source": [
    "# Randomly split data into a training set and a test\n",
    "set.seed(1)\n",
    "train <- sample(c(TRUE, FALSE), nrow(Hitters), rep = TRUE)\n",
    "test <- (!train)\n",
    "# Perform best subset selection\n",
    "regfit.best <- regsubsets(Salary ~ ., data = Hitters[train, ], nvmax = 19)\n",
    "# Building an \"X\" matrix from test data\n",
    "test.mat <- model.matrix(Salary ~ ., data = Hitters[test, ])\n",
    "\n",
    "# Compute test MSE of the 19 models(size from 1 to 19)\n",
    "val.errors <- rep(NA, 19)\n",
    "for (i in 1:19) {\n",
    "    coefi <- coef(regfit.best, id = i)\n",
    "    pred <- test.mat[, names(coefi)] %*% coefi\n",
    "    # Matrix product\n",
    "    val.errors[i] <- mean((Hitters$Salary[test] - pred)^2) # MSE\n",
    "}\n",
    "val.errors\n"
   ]
  },
  {
   "cell_type": "markdown",
   "metadata": {},
   "source": [
    "### Find best model from CV\n"
   ]
  },
  {
   "cell_type": "code",
   "execution_count": 13,
   "metadata": {
    "vscode": {
     "languageId": "r"
    }
   },
   "outputs": [
    {
     "data": {
      "text/html": [
       "<style>\n",
       ".dl-inline {width: auto; margin:0; padding: 0}\n",
       ".dl-inline>dt, .dl-inline>dd {float: none; width: auto; display: inline-block}\n",
       ".dl-inline>dt::after {content: \":\\0020\"; padding-right: .5ex}\n",
       ".dl-inline>dt:not(:first-of-type) {padding-left: .5ex}\n",
       "</style><dl class=dl-inline><dt>(Intercept)</dt><dd>67.1085369123294</dd><dt>AtBat</dt><dd>-2.14629867457481</dd><dt>Hits</dt><dd>7.01495467840133</dd><dt>Walks</dt><dd>8.07166403119075</dd><dt>CRuns</dt><dd>1.24251126334183</dd><dt>CWalks</dt><dd>-0.833784385185916</dd><dt>DivisionW</dt><dd>-118.436499846968</dd><dt>PutOuts</dt><dd>0.252692546543788</dd></dl>\n"
      ],
      "text/latex": [
       "\\begin{description*}\n",
       "\\item[(Intercept)] 67.1085369123294\n",
       "\\item[AtBat] -2.14629867457481\n",
       "\\item[Hits] 7.01495467840133\n",
       "\\item[Walks] 8.07166403119075\n",
       "\\item[CRuns] 1.24251126334183\n",
       "\\item[CWalks] -0.833784385185916\n",
       "\\item[DivisionW] -118.436499846968\n",
       "\\item[PutOuts] 0.252692546543788\n",
       "\\end{description*}\n"
      ],
      "text/markdown": [
       "(Intercept)\n",
       ":   67.1085369123294AtBat\n",
       ":   -2.14629867457481Hits\n",
       ":   7.01495467840133Walks\n",
       ":   8.07166403119075CRuns\n",
       ":   1.24251126334183CWalks\n",
       ":   -0.833784385185916DivisionW\n",
       ":   -118.436499846968PutOuts\n",
       ":   0.252692546543788\n",
       "\n"
      ],
      "text/plain": [
       " (Intercept)        AtBat         Hits        Walks        CRuns       CWalks \n",
       "  67.1085369   -2.1462987    7.0149547    8.0716640    1.2425113   -0.8337844 \n",
       "   DivisionW      PutOuts \n",
       "-118.4364998    0.2526925 "
      ]
     },
     "metadata": {},
     "output_type": "display_data"
    },
    {
     "data": {
      "text/html": [
       "<style>\n",
       ".dl-inline {width: auto; margin:0; padding: 0}\n",
       ".dl-inline>dt, .dl-inline>dd {float: none; width: auto; display: inline-block}\n",
       ".dl-inline>dt::after {content: \":\\0020\"; padding-right: .5ex}\n",
       ".dl-inline>dt:not(:first-of-type) {padding-left: .5ex}\n",
       "</style><dl class=dl-inline><dt>(Intercept)</dt><dd>79.4509472435319</dd><dt>Hits</dt><dd>1.28335125463328</dd><dt>Walks</dt><dd>3.22742638972714</dd><dt>CAtBat</dt><dd>-0.375235019565453</dd><dt>CHits</dt><dd>1.49570730989869</dd><dt>CHmRun</dt><dd>1.44205381889666</dd><dt>DivisionW</dt><dd>-129.986643165116</dd><dt>PutOuts</dt><dd>0.236681317525621</dd></dl>\n"
      ],
      "text/latex": [
       "\\begin{description*}\n",
       "\\item[(Intercept)] 79.4509472435319\n",
       "\\item[Hits] 1.28335125463328\n",
       "\\item[Walks] 3.22742638972714\n",
       "\\item[CAtBat] -0.375235019565453\n",
       "\\item[CHits] 1.49570730989869\n",
       "\\item[CHmRun] 1.44205381889666\n",
       "\\item[DivisionW] -129.986643165116\n",
       "\\item[PutOuts] 0.236681317525621\n",
       "\\end{description*}\n"
      ],
      "text/markdown": [
       "(Intercept)\n",
       ":   79.4509472435319Hits\n",
       ":   1.28335125463328Walks\n",
       ":   3.22742638972714CAtBat\n",
       ":   -0.375235019565453CHits\n",
       ":   1.49570730989869CHmRun\n",
       ":   1.44205381889666DivisionW\n",
       ":   -129.986643165116PutOuts\n",
       ":   0.236681317525621\n",
       "\n"
      ],
      "text/plain": [
       " (Intercept)         Hits        Walks       CAtBat        CHits       CHmRun \n",
       "  79.4509472    1.2833513    3.2274264   -0.3752350    1.4957073    1.4420538 \n",
       "   DivisionW      PutOuts \n",
       "-129.9866432    0.2366813 "
      ]
     },
     "metadata": {},
     "output_type": "display_data"
    }
   ],
   "source": [
    "# Find the best model (min)\n",
    "best_size <- which.min(val.errors)\n",
    "coef(regfit.best, best_size)\n",
    "\n",
    "# After finding the best model,\n",
    "# We need to fit this model using the full data set to obtain more accurate coefficient estimates\n",
    "regfit.best <- regsubsets(Salary ~ ., data = Hitters, nvmax = 19)\n",
    "coef(regfit.best, best_size)\n"
   ]
  }
 ],
 "metadata": {
  "kernelspec": {
   "display_name": "R",
   "language": "R",
   "name": "ir"
  },
  "language_info": {
   "codemirror_mode": "r",
   "file_extension": ".r",
   "mimetype": "text/x-r-source",
   "name": "R",
   "pygments_lexer": "r",
   "version": "4.2.1"
  },
  "orig_nbformat": 4,
  "vscode": {
   "interpreter": {
    "hash": "123262990ae749785f3f32d231f4c08ca2852b25f72e1468e5206668729b6c61"
   }
  }
 },
 "nbformat": 4,
 "nbformat_minor": 2
}
