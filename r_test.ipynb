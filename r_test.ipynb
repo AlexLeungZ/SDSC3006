{
 "cells": [
  {
   "cell_type": "code",
   "execution_count": 2,
   "metadata": {
    "vscode": {
     "languageId": "r"
    }
   },
   "outputs": [],
   "source": [
    "library(dplyr)\n",
    "library(ggplot2)\n",
    "library(haven)\n",
    "library(hrbrthemes)\n",
    "library(reshape2)\n",
    "library(rpart)\n",
    "library(rpart.plot)"
   ]
  },
  {
   "cell_type": "code",
   "execution_count": 3,
   "metadata": {
    "vscode": {
     "languageId": "r"
    }
   },
   "outputs": [
    {
     "data": {
      "text/html": [
       "'/home/alex/anaconda3/envs/r_env/lib/R/library'"
      ],
      "text/latex": [
       "'/home/alex/anaconda3/envs/r\\_env/lib/R/library'"
      ],
      "text/markdown": [
       "'/home/alex/anaconda3/envs/r_env/lib/R/library'"
      ],
      "text/plain": [
       "[1] \"/home/alex/anaconda3/envs/r_env/lib/R/library\""
      ]
     },
     "metadata": {},
     "output_type": "display_data"
    },
    {
     "data": {
      "text/html": [
       "'/home/alex/anaconda3/envs/r_env/lib/R'"
      ],
      "text/latex": [
       "'/home/alex/anaconda3/envs/r\\_env/lib/R'"
      ],
      "text/markdown": [
       "'/home/alex/anaconda3/envs/r_env/lib/R'"
      ],
      "text/plain": [
       "[1] \"/home/alex/anaconda3/envs/r_env/lib/R\""
      ]
     },
     "metadata": {},
     "output_type": "display_data"
    }
   ],
   "source": [
    ".libPaths() \n",
    "R.home()"
   ]
  }
 ],
 "metadata": {
  "kernelspec": {
   "display_name": "R",
   "language": "R",
   "name": "ir"
  },
  "language_info": {
   "codemirror_mode": "r",
   "file_extension": ".r",
   "mimetype": "text/x-r-source",
   "name": "R",
   "pygments_lexer": "r",
   "version": "4.1.3"
  },
  "orig_nbformat": 4,
  "vscode": {
   "interpreter": {
    "hash": "123262990ae749785f3f32d231f4c08ca2852b25f72e1468e5206668729b6c61"
   }
  }
 },
 "nbformat": 4,
 "nbformat_minor": 2
}
