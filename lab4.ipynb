{
 "cells": [
  {
   "cell_type": "markdown",
   "metadata": {},
   "source": [
    "### Loading liberary and dataset"
   ]
  },
  {
   "cell_type": "code",
   "execution_count": 11,
   "metadata": {
    "vscode": {
     "languageId": "r"
    }
   },
   "outputs": [
    {
     "name": "stderr",
     "output_type": "stream",
     "text": [
      "The following objects are masked from Auto (pos = 3):\n",
      "\n",
      "    acceleration, cylinders, displacement, horsepower, mpg, name,\n",
      "    origin, weight, year\n",
      "\n",
      "\n"
     ]
    }
   ],
   "source": [
    "library(ISLR2)\n",
    "library(boot)\n",
    "\n",
    "attach(Auto)"
   ]
  },
  {
   "cell_type": "markdown",
   "metadata": {},
   "source": [
    "### Validation Set Approach"
   ]
  },
  {
   "cell_type": "code",
   "execution_count": 2,
   "metadata": {
    "vscode": {
     "languageId": "r"
    }
   },
   "outputs": [],
   "source": [
    "set.seed(1) \n",
    "l=length(mpg) \n",
    "# pick l/2 from l, without put back\n",
    "train = sample(l, l/2, replace = FALSE) \n",
    "# rest is validation is validation set\n",
    "mpg.test = mpg[-train] "
   ]
  },
  {
   "cell_type": "markdown",
   "metadata": {},
   "source": [
    "#### fit 3 models respectively using the training data "
   ]
  },
  {
   "cell_type": "code",
   "execution_count": 3,
   "metadata": {
    "vscode": {
     "languageId": "r"
    }
   },
   "outputs": [],
   "source": [
    "lm.fit1 = lm(mpg~horsepower,data=Auto,subset=train) \n",
    "lm.fit2 = lm(mpg~poly(horsepower,2),data=Auto,subset=train) \n",
    "lm.fit3 = lm(mpg~poly(horsepower,3),data=Auto,subset=train) "
   ]
  },
  {
   "cell_type": "markdown",
   "metadata": {},
   "source": [
    "#### make predictions for each model "
   ]
  },
  {
   "cell_type": "code",
   "execution_count": 4,
   "metadata": {
    "vscode": {
     "languageId": "r"
    }
   },
   "outputs": [],
   "source": [
    "lm.pred1 = predict(lm.fit1,Auto[-train,]) \n",
    "lm.pred2 = predict(lm.fit2,Auto[-train,]) \n",
    "lm.pred3 = predict(lm.fit3,Auto[-train,]) "
   ]
  },
  {
   "cell_type": "markdown",
   "metadata": {},
   "source": [
    "#### calculate MSE for each model "
   ]
  },
  {
   "cell_type": "code",
   "execution_count": 5,
   "metadata": {
    "vscode": {
     "languageId": "r"
    }
   },
   "outputs": [],
   "source": [
    "linear_MSE = mean((mpg.test-lm.pred1)^2) #linear \n",
    "qua_MSE = mean((mpg.test-lm.pred2)^2) #quadratic \n",
    "cub_MSE = mean((mpg.test-lm.pred3)^2) #cubic"
   ]
  },
  {
   "cell_type": "code",
   "execution_count": 6,
   "metadata": {
    "vscode": {
     "languageId": "r"
    }
   },
   "outputs": [
    {
     "data": {
      "text/html": [
       "23.2660086465003"
      ],
      "text/latex": [
       "23.2660086465003"
      ],
      "text/markdown": [
       "23.2660086465003"
      ],
      "text/plain": [
       "[1] 23.26601"
      ]
     },
     "metadata": {},
     "output_type": "display_data"
    },
    {
     "data": {
      "text/html": [
       "18.7164594933828"
      ],
      "text/latex": [
       "18.7164594933828"
      ],
      "text/markdown": [
       "18.7164594933828"
      ],
      "text/plain": [
       "[1] 18.71646"
      ]
     },
     "metadata": {},
     "output_type": "display_data"
    },
    {
     "data": {
      "text/html": [
       "18.7940067973945"
      ],
      "text/latex": [
       "18.7940067973945"
      ],
      "text/markdown": [
       "18.7940067973945"
      ],
      "text/plain": [
       "[1] 18.79401"
      ]
     },
     "metadata": {},
     "output_type": "display_data"
    }
   ],
   "source": [
    "linear_MSE\n",
    "qua_MSE\n",
    "cub_MSE"
   ]
  },
  {
   "cell_type": "markdown",
   "metadata": {},
   "source": [
    "### LOOCV"
   ]
  },
  {
   "cell_type": "code",
   "execution_count": 7,
   "metadata": {
    "vscode": {
     "languageId": "r"
    }
   },
   "outputs": [
    {
     "data": {
      "text/html": [
       "<style>\n",
       ".list-inline {list-style: none; margin:0; padding: 0}\n",
       ".list-inline>li {display: inline-block}\n",
       ".list-inline>li:not(:last-child)::after {content: \"\\00b7\"; padding: 0 .5ex}\n",
       "</style>\n",
       "<ol class=list-inline><li>24.2315135179292</li><li>24.2311440937562</li></ol>\n"
      ],
      "text/latex": [
       "\\begin{enumerate*}\n",
       "\\item 24.2315135179292\n",
       "\\item 24.2311440937562\n",
       "\\end{enumerate*}\n"
      ],
      "text/markdown": [
       "1. 24.2315135179292\n",
       "2. 24.2311440937562\n",
       "\n",
       "\n"
      ],
      "text/plain": [
       "[1] 24.23151 24.23114"
      ]
     },
     "metadata": {},
     "output_type": "display_data"
    }
   ],
   "source": [
    "glm.fit = glm(mpg~horsepower,data=Auto) \n",
    "cv.err = cv.glm(Auto,glm.fit) \n",
    "cv.err$delta #average MSE and adjusted MSE"
   ]
  },
  {
   "cell_type": "markdown",
   "metadata": {},
   "source": [
    "Adjusted mean squares are calculated by dividing the adjusted sum of squares by the degrees of freedom. \n",
    "\n",
    "The adjusted sum of squares does not depend on the order the factors are entered into the model. \n"
   ]
  },
  {
   "cell_type": "code",
   "execution_count": 8,
   "metadata": {
    "vscode": {
     "languageId": "r"
    }
   },
   "outputs": [
    {
     "data": {
      "text/html": [
       "<style>\n",
       ".list-inline {list-style: none; margin:0; padding: 0}\n",
       ".list-inline>li {display: inline-block}\n",
       ".list-inline>li:not(:last-child)::after {content: \"\\00b7\"; padding: 0 .5ex}\n",
       "</style>\n",
       "<ol class=list-inline><li>24.2315135179292</li><li>19.2482131244897</li><li>19.334984064029</li><li>19.4244303104302</li><li>19.0332138547041</li></ol>\n"
      ],
      "text/latex": [
       "\\begin{enumerate*}\n",
       "\\item 24.2315135179292\n",
       "\\item 19.2482131244897\n",
       "\\item 19.334984064029\n",
       "\\item 19.4244303104302\n",
       "\\item 19.0332138547041\n",
       "\\end{enumerate*}\n"
      ],
      "text/markdown": [
       "1. 24.2315135179292\n",
       "2. 19.2482131244897\n",
       "3. 19.334984064029\n",
       "4. 19.4244303104302\n",
       "5. 19.0332138547041\n",
       "\n",
       "\n"
      ],
      "text/plain": [
       "[1] 24.23151 19.24821 19.33498 19.42443 19.03321"
      ]
     },
     "metadata": {},
     "output_type": "display_data"
    }
   ],
   "source": [
    "# Write loop statement to repeat LOOCV process for all models\n",
    "cv.error = rep(0,5) #initial value\n",
    "\n",
    "# for polynomials from order 1 to 5 calculate average MSE \n",
    "for (i in 1:5){ \n",
    "    glm.fit = glm(mpg~poly(horsepower,i),data=Auto)\n",
    "    cv.error[i] = cv.glm(Auto,glm.fit)$delta[1]\n",
    "}\n",
    "\n",
    "cv.error"
   ]
  },
  {
   "cell_type": "code",
   "execution_count": 9,
   "metadata": {
    "vscode": {
     "languageId": "r"
    }
   },
   "outputs": [
    {
     "name": "stdout",
     "output_type": "stream",
     "text": [
      "[1] 24.23151\n",
      "[1] 19.24821\n",
      "[1] 19.33498\n",
      "[1] 19.42443\n",
      "[1] 19.03321\n"
     ]
    }
   ],
   "source": [
    "# this code also could be done manually, instead of using cv.glm()\n",
    "\n",
    "model_predict = array(0, dim = c(nrow(Auto),5))\n",
    "\n",
    "for (i in 1:5) {\n",
    "    for (index in 1:nrow(Auto)) {\n",
    "        train = c(1:nrow(Auto))[-index]\n",
    "        mpg.test = mpg[index] # rest is validation is validation set\n",
    "        lm.fit = lm(mpg~poly(horsepower,i),data=Auto,subset=train) \n",
    "        lm.pred = predict(lm.fit,Auto[-train,]) \n",
    "        model_predict[index,i] =  lm.pred\n",
    "    }\n",
    "}\n",
    "\n",
    "for (i in 1:5) {\n",
    "    print(mean((model_predict[,i]-mpg)^2))\n",
    "}"
   ]
  },
  {
   "cell_type": "markdown",
   "metadata": {},
   "source": [
    "### K-fold CV"
   ]
  },
  {
   "cell_type": "code",
   "execution_count": 10,
   "metadata": {
    "vscode": {
     "languageId": "r"
    }
   },
   "outputs": [
    {
     "data": {
      "text/html": [
       "<style>\n",
       ".list-inline {list-style: none; margin:0; padding: 0}\n",
       ".list-inline>li {display: inline-block}\n",
       ".list-inline>li:not(:last-child)::after {content: \"\\00b7\"; padding: 0 .5ex}\n",
       "</style>\n",
       "<ol class=list-inline><li>24.2153770376871</li><li>19.2832743906712</li><li>19.1299761940895</li><li>19.2920146764047</li><li>19.0947090246303</li><li>18.8787391968873</li><li>18.7812714645689</li><li>18.8048368792722</li><li>18.9267584938098</li><li>18.9943905609699</li></ol>\n"
      ],
      "text/latex": [
       "\\begin{enumerate*}\n",
       "\\item 24.2153770376871\n",
       "\\item 19.2832743906712\n",
       "\\item 19.1299761940895\n",
       "\\item 19.2920146764047\n",
       "\\item 19.0947090246303\n",
       "\\item 18.8787391968873\n",
       "\\item 18.7812714645689\n",
       "\\item 18.8048368792722\n",
       "\\item 18.9267584938098\n",
       "\\item 18.9943905609699\n",
       "\\end{enumerate*}\n"
      ],
      "text/markdown": [
       "1. 24.2153770376871\n",
       "2. 19.2832743906712\n",
       "3. 19.1299761940895\n",
       "4. 19.2920146764047\n",
       "5. 19.0947090246303\n",
       "6. 18.8787391968873\n",
       "7. 18.7812714645689\n",
       "8. 18.8048368792722\n",
       "9. 18.9267584938098\n",
       "10. 18.9943905609699\n",
       "\n",
       "\n"
      ],
      "text/plain": [
       " [1] 24.21538 19.28327 19.12998 19.29201 19.09471 18.87874 18.78127 18.80484\n",
       " [9] 18.92676 18.99439"
      ]
     },
     "metadata": {},
     "output_type": "display_data"
    }
   ],
   "source": [
    "set.seed(1) #test polynomials from order 1 to 10 (loop) \n",
    "cv.error.10 = rep(0,10)\n",
    "for (i in 1:10) { \n",
    "    glm.fit = glm(mpg~poly(horsepower,i),data=Auto)\n",
    "    cv.error.10[i] = cv.glm(Auto,glm.fit, K=10)$delta[1]\n",
    "}\n",
    "\n",
    "cv.error.10"
   ]
  }
 ],
 "metadata": {
  "kernelspec": {
   "display_name": "R",
   "language": "R",
   "name": "ir"
  },
  "language_info": {
   "codemirror_mode": "r",
   "file_extension": ".r",
   "mimetype": "text/x-r-source",
   "name": "R",
   "pygments_lexer": "r",
   "version": "4.1.3"
  },
  "orig_nbformat": 4
 },
 "nbformat": 4,
 "nbformat_minor": 2
}
