{
 "cells": [
  {
   "cell_type": "markdown",
   "metadata": {},
   "source": [
    "# Assignment 3 Question 5\n"
   ]
  },
  {
   "cell_type": "markdown",
   "metadata": {},
   "source": [
    "## Loading library and dataset\n"
   ]
  },
  {
   "cell_type": "code",
   "execution_count": 1,
   "metadata": {
    "vscode": {
     "languageId": "r"
    }
   },
   "outputs": [
    {
     "name": "stderr",
     "output_type": "stream",
     "text": [
      "Loading required package: Matrix\n",
      "\n",
      "Loaded glmnet 4.1-2\n",
      "\n",
      "\n",
      "Attaching package: ‘pls’\n",
      "\n",
      "\n",
      "The following object is masked from ‘package:stats’:\n",
      "\n",
      "    loadings\n",
      "\n",
      "\n"
     ]
    }
   ],
   "source": [
    "library(glmnet)\n",
    "library(ISLR2)\n",
    "library(pls)\n",
    "\n",
    "attach(College)\n"
   ]
  },
  {
   "cell_type": "code",
   "execution_count": 2,
   "metadata": {
    "vscode": {
     "languageId": "r"
    }
   },
   "outputs": [],
   "source": [
    "MSE <- (\\(predict, test) as.integer(mean((predict - test)**2)))"
   ]
  },
  {
   "cell_type": "markdown",
   "metadata": {},
   "source": [
    "## Set random seed\n"
   ]
  },
  {
   "cell_type": "code",
   "execution_count": 3,
   "metadata": {
    "vscode": {
     "languageId": "r"
    }
   },
   "outputs": [
    {
     "name": "stdout",
     "output_type": "stream",
     "text": [
      "[1] 1668526516\n"
     ]
    }
   ],
   "source": [
    "seed <- 1668526516\n",
    "print(seed)\n"
   ]
  },
  {
   "cell_type": "code",
   "execution_count": 4,
   "metadata": {
    "vscode": {
     "languageId": "r"
    }
   },
   "outputs": [],
   "source": [
    "# seed <- as.integer(Sys.time())\n",
    "# print(seed)\n"
   ]
  },
  {
   "cell_type": "markdown",
   "metadata": {},
   "source": [
    "## Part A\n"
   ]
  },
  {
   "cell_type": "code",
   "execution_count": 5,
   "metadata": {
    "vscode": {
     "languageId": "r"
    }
   },
   "outputs": [],
   "source": [
    "set.seed(seed)\n"
   ]
  },
  {
   "cell_type": "code",
   "execution_count": 6,
   "metadata": {
    "vscode": {
     "languageId": "r"
    }
   },
   "outputs": [],
   "source": [
    "rand <- sample(nrow(College), nrow(College) / 2)\n",
    "College.train <- College[rand, ]\n",
    "College.test <- College[-rand, ]\n"
   ]
  },
  {
   "cell_type": "markdown",
   "metadata": {},
   "source": [
    "## Part B\n"
   ]
  },
  {
   "cell_type": "code",
   "execution_count": 7,
   "metadata": {
    "vscode": {
     "languageId": "r"
    }
   },
   "outputs": [
    {
     "data": {
      "text/html": [
       "1532067"
      ],
      "text/latex": [
       "1532067"
      ],
      "text/markdown": [
       "1532067"
      ],
      "text/plain": [
       "[1] 1532067"
      ]
     },
     "metadata": {},
     "output_type": "display_data"
    }
   ],
   "source": [
    "College.lm <- lm(Apps ~ ., data = College.train)\n",
    "College.lm.pred <- predict(College.lm, College.test)\n",
    "College.lm.MSE <- MSE(College.test$Apps, College.lm.pred)\n",
    "College.lm.MSE\n"
   ]
  },
  {
   "cell_type": "markdown",
   "metadata": {},
   "source": [
    "## Part C\n"
   ]
  },
  {
   "cell_type": "code",
   "execution_count": 8,
   "metadata": {
    "vscode": {
     "languageId": "r"
    }
   },
   "outputs": [],
   "source": [
    "College.train.mat <- model.matrix(Apps ~ ., College.train)\n",
    "College.test.mat <- model.matrix(Apps ~ ., College.test)\n",
    "grid <- 10**seq(5, -5, length = 1000)\n"
   ]
  },
  {
   "cell_type": "code",
   "execution_count": 9,
   "metadata": {
    "vscode": {
     "languageId": "r"
    }
   },
   "outputs": [],
   "source": [
    "set.seed(seed)\n"
   ]
  },
  {
   "cell_type": "code",
   "execution_count": 10,
   "metadata": {
    "vscode": {
     "languageId": "r"
    }
   },
   "outputs": [
    {
     "data": {
      "text/html": [
       "13.6815762796747"
      ],
      "text/latex": [
       "13.6815762796747"
      ],
      "text/markdown": [
       "13.6815762796747"
      ],
      "text/plain": [
       "[1] 13.68158"
      ]
     },
     "metadata": {},
     "output_type": "display_data"
    },
    {
     "data": {
      "text/html": [
       "1584537"
      ],
      "text/latex": [
       "1584537"
      ],
      "text/markdown": [
       "1584537"
      ],
      "text/plain": [
       "[1] 1584537"
      ]
     },
     "metadata": {},
     "output_type": "display_data"
    }
   ],
   "source": [
    "ridge.mod <- cv.glmnet(College.train.mat, College.train$Apps, alpha = 0, lambda = grid, thresh = 1e-12)\n",
    "lambda.ridge <- ridge.mod$lambda.min\n",
    "lambda.ridge\n",
    "\n",
    "ridge.pred <- predict(ridge.mod, College.test.mat, s = lambda.ridge)\n",
    "ridge.MSE <- MSE(College.test$Apps, ridge.pred)\n",
    "ridge.MSE\n"
   ]
  },
  {
   "cell_type": "markdown",
   "metadata": {},
   "source": [
    "## Part D\n"
   ]
  },
  {
   "cell_type": "code",
   "execution_count": 11,
   "metadata": {
    "vscode": {
     "languageId": "r"
    }
   },
   "outputs": [],
   "source": [
    "set.seed(seed)"
   ]
  },
  {
   "cell_type": "code",
   "execution_count": 12,
   "metadata": {
    "vscode": {
     "languageId": "r"
    }
   },
   "outputs": [
    {
     "data": {
      "text/html": [
       "12.7675070431927"
      ],
      "text/latex": [
       "12.7675070431927"
      ],
      "text/markdown": [
       "12.7675070431927"
      ],
      "text/plain": [
       "[1] 12.76751"
      ]
     },
     "metadata": {},
     "output_type": "display_data"
    },
    {
     "data": {
      "text/html": [
       "1613547"
      ],
      "text/latex": [
       "1613547"
      ],
      "text/markdown": [
       "1613547"
      ],
      "text/plain": [
       "[1] 1613547"
      ]
     },
     "metadata": {},
     "output_type": "display_data"
    }
   ],
   "source": [
    "lasso.mod <- cv.glmnet(College.train.mat, College.train$Apps, alpha = 1, lambda = grid, thresh = 1e-12)\n",
    "lambda.lasso <- lasso.mod$lambda.min\n",
    "lambda.lasso\n",
    "\n",
    "lasso.pred <- predict(lasso.mod, College.test.mat, s = lambda.lasso)\n",
    "lasso.MSE <- MSE(College.test$Apps, lasso.pred)\n",
    "lasso.MSE\n"
   ]
  },
  {
   "cell_type": "code",
   "execution_count": 13,
   "metadata": {
    "vscode": {
     "languageId": "r"
    }
   },
   "outputs": [
    {
     "data": {
      "text/plain": [
       "19 x 1 sparse Matrix of class \"dgCMatrix\"\n",
       "                       s1\n",
       "(Intercept) -547.45330270\n",
       "(Intercept)    .         \n",
       "PrivateYes  -465.19161682\n",
       "Accept         1.50816182\n",
       "Enroll        -0.37074234\n",
       "Top10perc     40.16663442\n",
       "Top25perc     -6.90841389\n",
       "F.Undergrad    .         \n",
       "P.Undergrad    0.03634341\n",
       "Outstate      -0.07011394\n",
       "Room.Board     0.13680614\n",
       "Books          .         \n",
       "Personal       0.01458055\n",
       "PhD           -6.93735030\n",
       "Terminal      -3.12185511\n",
       "S.F.Ratio      9.41059698\n",
       "perc.alumni   -0.66225807\n",
       "Expend         0.07301655\n",
       "Grad.Rate      6.50213112"
      ]
     },
     "metadata": {},
     "output_type": "display_data"
    }
   ],
   "source": [
    "lasso.modA <- glmnet(model.matrix(Apps ~., data = College), College$Apps, alpha = 1)\n",
    "lasso.coef <- predict(lasso.modA, s = lambda.lasso, type = \"coefficients\")\n",
    "lasso.coef\n"
   ]
  },
  {
   "cell_type": "markdown",
   "metadata": {},
   "source": [
    "## Part E\n"
   ]
  },
  {
   "cell_type": "code",
   "execution_count": 14,
   "metadata": {
    "vscode": {
     "languageId": "r"
    }
   },
   "outputs": [],
   "source": [
    "set.seed(seed)"
   ]
  },
  {
   "cell_type": "code",
   "execution_count": 15,
   "metadata": {
    "vscode": {
     "languageId": "r"
    }
   },
   "outputs": [
    {
     "data": {
      "image/png": "[encoded data removed]",
      "text/plain": [
       "Plot with title “Apps”"
      ]
     },
     "metadata": {
      "image/png": {
       "height": 420,
       "width": 420
      }
     },
     "output_type": "display_data"
    }
   ],
   "source": [
    "pcr.mod <- pcr(Apps ~ ., data = College.train, scale = TRUE, validation = \"CV\")\n",
    "validationplot(pcr.mod, val.type = \"MSEP\")\n"
   ]
  },
  {
   "cell_type": "code",
   "execution_count": 16,
   "metadata": {
    "vscode": {
     "languageId": "r"
    }
   },
   "outputs": [
    {
     "data": {
      "text/html": [
       "3139869"
      ],
      "text/latex": [
       "3139869"
      ],
      "text/markdown": [
       "3139869"
      ],
      "text/plain": [
       "[1] 3139869"
      ]
     },
     "metadata": {},
     "output_type": "display_data"
    }
   ],
   "source": [
    "pcr.pred <- predict(pcr.mod, College.test, ncomp = 9)\n",
    "pcr.MSE <- MSE(College.test$Apps, pcr.pred)\n",
    "pcr.MSE"
   ]
  },
  {
   "cell_type": "code",
   "execution_count": 17,
   "metadata": {
    "vscode": {
     "languageId": "r"
    }
   },
   "outputs": [
    {
     "data": {
      "text/html": [
       "1532067"
      ],
      "text/latex": [
       "1532067"
      ],
      "text/markdown": [
       "1532067"
      ],
      "text/plain": [
       "[1] 1532067"
      ]
     },
     "metadata": {},
     "output_type": "display_data"
    },
    {
     "data": {
      "text/html": [
       "1584537"
      ],
      "text/latex": [
       "1584537"
      ],
      "text/markdown": [
       "1584537"
      ],
      "text/plain": [
       "[1] 1584537"
      ]
     },
     "metadata": {},
     "output_type": "display_data"
    },
    {
     "data": {
      "text/html": [
       "1613547"
      ],
      "text/latex": [
       "1613547"
      ],
      "text/markdown": [
       "1613547"
      ],
      "text/plain": [
       "[1] 1613547"
      ]
     },
     "metadata": {},
     "output_type": "display_data"
    },
    {
     "data": {
      "text/html": [
       "13.6815762796747"
      ],
      "text/latex": [
       "13.6815762796747"
      ],
      "text/markdown": [
       "13.6815762796747"
      ],
      "text/plain": [
       "[1] 13.68158"
      ]
     },
     "metadata": {},
     "output_type": "display_data"
    },
    {
     "data": {
      "text/html": [
       "12.7675070431927"
      ],
      "text/latex": [
       "12.7675070431927"
      ],
      "text/markdown": [
       "12.7675070431927"
      ],
      "text/plain": [
       "[1] 12.76751"
      ]
     },
     "metadata": {},
     "output_type": "display_data"
    }
   ],
   "source": [
    "College.lm.MSE\n",
    "ridge.MSE\n",
    "lasso.MSE\n",
    "\n",
    "lambda.ridge\n",
    "lambda.lasso"
   ]
  }
 ],
 "metadata": {
  "kernelspec": {
   "display_name": "R",
   "language": "R",
   "name": "ir"
  },
  "language_info": {
   "codemirror_mode": "r",
   "file_extension": ".r",
   "mimetype": "text/x-r-source",
   "name": "R",
   "pygments_lexer": "r",
   "version": "4.2.2"
  },
  "orig_nbformat": 4,
  "vscode": {
   "interpreter": {
    "hash": "123262990ae749785f3f32d231f4c08ca2852b25f72e1468e5206668729b6c61"
   }
  }
 },
 "nbformat": 4,
 "nbformat_minor": 2
}
