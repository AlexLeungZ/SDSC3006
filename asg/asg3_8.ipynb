{
 "cells": [
  {
   "cell_type": "markdown",
   "metadata": {},
   "source": [
    "# Assignment 3 Question 8\n"
   ]
  },
  {
   "cell_type": "markdown",
   "metadata": {},
   "source": [
    "## Loading library and dataset\n"
   ]
  },
  {
   "cell_type": "code",
   "execution_count": 1,
   "metadata": {
    "vscode": {
     "languageId": "r"
    }
   },
   "outputs": [
    {
     "name": "stderr",
     "output_type": "stream",
     "text": [
      "Loading required package: ggplot2\n",
      "\n",
      "Loading required package: lattice\n",
      "\n"
     ]
    }
   ],
   "source": [
    "library(caret)\n",
    "library(e1071)\n",
    "library(ISLR)\n",
    "\n",
    "attach(OJ)\n"
   ]
  },
  {
   "cell_type": "code",
   "execution_count": 2,
   "metadata": {
    "vscode": {
     "languageId": "r"
    }
   },
   "outputs": [],
   "source": [
    "MSE <- (\\(real, pred) signif(1 - confusionMatrix(real, pred)$overall[[\"Accuracy\"]], digits = 5))\n"
   ]
  },
  {
   "cell_type": "markdown",
   "metadata": {},
   "source": [
    "## Set random seed\n"
   ]
  },
  {
   "cell_type": "code",
   "execution_count": 3,
   "metadata": {
    "vscode": {
     "languageId": "r"
    }
   },
   "outputs": [
    {
     "name": "stdout",
     "output_type": "stream",
     "text": [
      "[1] 1\n"
     ]
    }
   ],
   "source": [
    "seed <- 1\n",
    "print(seed)\n"
   ]
  },
  {
   "cell_type": "markdown",
   "metadata": {},
   "source": [
    "## Part A\n"
   ]
  },
  {
   "cell_type": "code",
   "execution_count": 4,
   "metadata": {
    "vscode": {
     "languageId": "r"
    }
   },
   "outputs": [],
   "source": [
    "set.seed(seed)\n"
   ]
  },
  {
   "cell_type": "code",
   "execution_count": 5,
   "metadata": {
    "vscode": {
     "languageId": "r"
    }
   },
   "outputs": [],
   "source": [
    "rand <- sample(nrow(OJ), 800)\n",
    "OJ.train <- OJ[rand, ]\n",
    "OJ.test <- OJ[-rand, ]\n"
   ]
  },
  {
   "cell_type": "markdown",
   "metadata": {},
   "source": [
    "## Part B\n"
   ]
  },
  {
   "cell_type": "code",
   "execution_count": 6,
   "metadata": {
    "vscode": {
     "languageId": "r"
    }
   },
   "outputs": [],
   "source": [
    "set.seed(seed)\n"
   ]
  },
  {
   "cell_type": "code",
   "execution_count": 7,
   "metadata": {
    "vscode": {
     "languageId": "r"
    }
   },
   "outputs": [
    {
     "data": {
      "text/plain": [
       "\n",
       "Call:\n",
       "svm(formula = Purchase ~ ., data = OJ.train, kernel = \"linear\", cost = 0.01)\n",
       "\n",
       "\n",
       "Parameters:\n",
       "   SVM-Type:  C-classification \n",
       " SVM-Kernel:  linear \n",
       "       cost:  0.01 \n",
       "\n",
       "Number of Support Vectors:  435\n",
       "\n",
       " ( 219 216 )\n",
       "\n",
       "\n",
       "Number of Classes:  2 \n",
       "\n",
       "Levels: \n",
       " CH MM\n",
       "\n",
       "\n"
      ]
     },
     "metadata": {},
     "output_type": "display_data"
    }
   ],
   "source": [
    "OJ.svm <- svm(Purchase ~ ., data = OJ.train, kernel = \"linear\", cost = 0.01)\n",
    "summary(OJ.svm)\n"
   ]
  },
  {
   "cell_type": "markdown",
   "metadata": {},
   "source": [
    "## Part C\n"
   ]
  },
  {
   "cell_type": "code",
   "execution_count": 8,
   "metadata": {
    "vscode": {
     "languageId": "r"
    }
   },
   "outputs": [
    {
     "data": {
      "text/html": [
       "0.175"
      ],
      "text/latex": [
       "0.175"
      ],
      "text/markdown": [
       "0.175"
      ],
      "text/plain": [
       "[1] 0.175"
      ]
     },
     "metadata": {},
     "output_type": "display_data"
    }
   ],
   "source": [
    "OJ.train.pred <- predict(OJ.svm, OJ.train)\n",
    "MSE(OJ.train$Purchase, OJ.train.pred)\n"
   ]
  },
  {
   "cell_type": "code",
   "execution_count": 9,
   "metadata": {
    "vscode": {
     "languageId": "r"
    }
   },
   "outputs": [
    {
     "data": {
      "text/html": [
       "0.17778"
      ],
      "text/latex": [
       "0.17778"
      ],
      "text/markdown": [
       "0.17778"
      ],
      "text/plain": [
       "[1] 0.17778"
      ]
     },
     "metadata": {},
     "output_type": "display_data"
    }
   ],
   "source": [
    "OJ.test.pred <- predict(OJ.svm, OJ.test)\n",
    "MSE(OJ.test$Purchase, OJ.test.pred)\n"
   ]
  },
  {
   "cell_type": "markdown",
   "metadata": {},
   "source": [
    "## Part D\n"
   ]
  },
  {
   "cell_type": "code",
   "execution_count": 10,
   "metadata": {
    "vscode": {
     "languageId": "r"
    }
   },
   "outputs": [],
   "source": [
    "set.seed(seed)\n"
   ]
  },
  {
   "cell_type": "code",
   "execution_count": 11,
   "metadata": {
    "vscode": {
     "languageId": "r"
    }
   },
   "outputs": [
    {
     "data": {
      "text/plain": [
       "\n",
       "Call:\n",
       "best.tune(METHOD = svm, train.x = Purchase ~ ., data = OJ.train, \n",
       "    ranges = list(cost = 10^seq(-2, 1, 0.1)), kernel = \"linear\")\n",
       "\n",
       "\n",
       "Parameters:\n",
       "   SVM-Type:  C-classification \n",
       " SVM-Kernel:  linear \n",
       "       cost:  0.5011872 \n",
       "\n",
       "Number of Support Vectors:  332\n",
       "\n",
       " ( 165 167 )\n",
       "\n",
       "\n",
       "Number of Classes:  2 \n",
       "\n",
       "Levels: \n",
       " CH MM\n",
       "\n",
       "\n"
      ]
     },
     "metadata": {},
     "output_type": "display_data"
    }
   ],
   "source": [
    "tune.out <- tune(svm, Purchase ~ ., data = OJ.train, kernel = \"linear\", ranges = list(cost = 10**seq(-2, 1, 0.1)))\n",
    "tune.best <- tune.out$best.model\n",
    "summary(tune.best)\n"
   ]
  },
  {
   "cell_type": "markdown",
   "metadata": {},
   "source": [
    "## Part E\n"
   ]
  },
  {
   "cell_type": "code",
   "execution_count": 12,
   "metadata": {
    "vscode": {
     "languageId": "r"
    }
   },
   "outputs": [
    {
     "data": {
      "text/html": [
       "0.165"
      ],
      "text/latex": [
       "0.165"
      ],
      "text/markdown": [
       "0.165"
      ],
      "text/plain": [
       "[1] 0.165"
      ]
     },
     "metadata": {},
     "output_type": "display_data"
    }
   ],
   "source": [
    "tune.train.pred <- predict(tune.best, OJ.train)\n",
    "linear.trainMSE <- MSE(OJ.train$Purchase, tune.train.pred)\n",
    "linear.trainMSE\n"
   ]
  },
  {
   "cell_type": "code",
   "execution_count": 13,
   "metadata": {
    "vscode": {
     "languageId": "r"
    }
   },
   "outputs": [
    {
     "data": {
      "text/html": [
       "0.15556"
      ],
      "text/latex": [
       "0.15556"
      ],
      "text/markdown": [
       "0.15556"
      ],
      "text/plain": [
       "[1] 0.15556"
      ]
     },
     "metadata": {},
     "output_type": "display_data"
    }
   ],
   "source": [
    "tune.test.pred <- predict(tune.best, OJ.test)\n",
    "linear.testMSE <- MSE(OJ.test$Purchase, tune.test.pred)\n",
    "linear.testMSE\n"
   ]
  },
  {
   "cell_type": "markdown",
   "metadata": {},
   "source": [
    "## Part F\n"
   ]
  },
  {
   "cell_type": "code",
   "execution_count": 14,
   "metadata": {
    "vscode": {
     "languageId": "r"
    }
   },
   "outputs": [],
   "source": [
    "set.seed(seed)\n"
   ]
  },
  {
   "cell_type": "code",
   "execution_count": 15,
   "metadata": {
    "vscode": {
     "languageId": "r"
    }
   },
   "outputs": [
    {
     "data": {
      "text/plain": [
       "\n",
       "Call:\n",
       "svm(formula = Purchase ~ ., data = OJ.train, kernel = \"radial\")\n",
       "\n",
       "\n",
       "Parameters:\n",
       "   SVM-Type:  C-classification \n",
       " SVM-Kernel:  radial \n",
       "       cost:  1 \n",
       "\n",
       "Number of Support Vectors:  373\n",
       "\n",
       " ( 188 185 )\n",
       "\n",
       "\n",
       "Number of Classes:  2 \n",
       "\n",
       "Levels: \n",
       " CH MM\n",
       "\n",
       "\n"
      ]
     },
     "metadata": {},
     "output_type": "display_data"
    }
   ],
   "source": [
    "OJ.radial <- svm(Purchase ~ ., data = OJ.train, kernel = \"radial\")\n",
    "summary(OJ.radial)\n"
   ]
  },
  {
   "cell_type": "code",
   "execution_count": 16,
   "metadata": {
    "vscode": {
     "languageId": "r"
    }
   },
   "outputs": [
    {
     "data": {
      "text/html": [
       "0.15125"
      ],
      "text/latex": [
       "0.15125"
      ],
      "text/markdown": [
       "0.15125"
      ],
      "text/plain": [
       "[1] 0.15125"
      ]
     },
     "metadata": {},
     "output_type": "display_data"
    }
   ],
   "source": [
    "OJ.trainR.pred <- predict(OJ.radial, OJ.train)\n",
    "MSE(OJ.train$Purchase, OJ.trainR.pred)\n"
   ]
  },
  {
   "cell_type": "code",
   "execution_count": 17,
   "metadata": {
    "vscode": {
     "languageId": "r"
    }
   },
   "outputs": [
    {
     "data": {
      "text/html": [
       "0.18519"
      ],
      "text/latex": [
       "0.18519"
      ],
      "text/markdown": [
       "0.18519"
      ],
      "text/plain": [
       "[1] 0.18519"
      ]
     },
     "metadata": {},
     "output_type": "display_data"
    }
   ],
   "source": [
    "OJ.testR.pred <- predict(OJ.radial, OJ.test)\n",
    "MSE(OJ.test$Purchase, OJ.testR.pred)\n"
   ]
  },
  {
   "cell_type": "code",
   "execution_count": 18,
   "metadata": {
    "vscode": {
     "languageId": "r"
    }
   },
   "outputs": [],
   "source": [
    "set.seed(seed)\n"
   ]
  },
  {
   "cell_type": "code",
   "execution_count": 19,
   "metadata": {
    "vscode": {
     "languageId": "r"
    }
   },
   "outputs": [
    {
     "data": {
      "text/plain": [
       "\n",
       "Call:\n",
       "best.tune(METHOD = svm, train.x = Purchase ~ ., data = OJ.train, \n",
       "    ranges = list(cost = 10^seq(-2, 1, 0.1)), kernel = \"radial\")\n",
       "\n",
       "\n",
       "Parameters:\n",
       "   SVM-Type:  C-classification \n",
       " SVM-Kernel:  radial \n",
       "       cost:  0.6309573 \n",
       "\n",
       "Number of Support Vectors:  391\n",
       "\n",
       " ( 197 194 )\n",
       "\n",
       "\n",
       "Number of Classes:  2 \n",
       "\n",
       "Levels: \n",
       " CH MM\n",
       "\n",
       "\n"
      ]
     },
     "metadata": {},
     "output_type": "display_data"
    }
   ],
   "source": [
    "radial.out <- tune(svm, Purchase ~ ., data = OJ.train, kernel = \"radial\", ranges = list(cost = 10**seq(-2, 1, 0.1)))\n",
    "radial.best <- radial.out$best.model\n",
    "summary(radial.best)\n"
   ]
  },
  {
   "cell_type": "code",
   "execution_count": 20,
   "metadata": {
    "vscode": {
     "languageId": "r"
    }
   },
   "outputs": [
    {
     "data": {
      "text/html": [
       "0.14875"
      ],
      "text/latex": [
       "0.14875"
      ],
      "text/markdown": [
       "0.14875"
      ],
      "text/plain": [
       "[1] 0.14875"
      ]
     },
     "metadata": {},
     "output_type": "display_data"
    }
   ],
   "source": [
    "radial.train.pred <- predict(radial.best, OJ.train)\n",
    "radial.trainMSE <- MSE(OJ.train$Purchase, radial.train.pred)\n",
    "radial.trainMSE\n"
   ]
  },
  {
   "cell_type": "code",
   "execution_count": 21,
   "metadata": {
    "vscode": {
     "languageId": "r"
    }
   },
   "outputs": [
    {
     "data": {
      "text/html": [
       "0.18148"
      ],
      "text/latex": [
       "0.18148"
      ],
      "text/markdown": [
       "0.18148"
      ],
      "text/plain": [
       "[1] 0.18148"
      ]
     },
     "metadata": {},
     "output_type": "display_data"
    }
   ],
   "source": [
    "radial.test.pred <- predict(radial.best, OJ.test)\n",
    "radial.testMSE <- MSE(OJ.test$Purchase, radial.test.pred)\n",
    "radial.testMSE\n"
   ]
  },
  {
   "cell_type": "markdown",
   "metadata": {},
   "source": [
    "## Part G\n"
   ]
  },
  {
   "cell_type": "code",
   "execution_count": 22,
   "metadata": {
    "vscode": {
     "languageId": "r"
    }
   },
   "outputs": [],
   "source": [
    "set.seed(seed)\n"
   ]
  },
  {
   "cell_type": "code",
   "execution_count": 23,
   "metadata": {
    "vscode": {
     "languageId": "r"
    }
   },
   "outputs": [
    {
     "data": {
      "text/plain": [
       "\n",
       "Call:\n",
       "svm(formula = Purchase ~ ., data = OJ.train, kernel = \"poly\", degree = 2)\n",
       "\n",
       "\n",
       "Parameters:\n",
       "   SVM-Type:  C-classification \n",
       " SVM-Kernel:  polynomial \n",
       "       cost:  1 \n",
       "     degree:  2 \n",
       "     coef.0:  0 \n",
       "\n",
       "Number of Support Vectors:  447\n",
       "\n",
       " ( 225 222 )\n",
       "\n",
       "\n",
       "Number of Classes:  2 \n",
       "\n",
       "Levels: \n",
       " CH MM\n",
       "\n",
       "\n"
      ]
     },
     "metadata": {},
     "output_type": "display_data"
    }
   ],
   "source": [
    "OJ.poly <- svm(Purchase ~ ., data = OJ.train, kernel = \"poly\", degree = 2)\n",
    "summary(OJ.poly)\n"
   ]
  },
  {
   "cell_type": "code",
   "execution_count": 24,
   "metadata": {
    "vscode": {
     "languageId": "r"
    }
   },
   "outputs": [
    {
     "data": {
      "text/html": [
       "0.1825"
      ],
      "text/latex": [
       "0.1825"
      ],
      "text/markdown": [
       "0.1825"
      ],
      "text/plain": [
       "[1] 0.1825"
      ]
     },
     "metadata": {},
     "output_type": "display_data"
    }
   ],
   "source": [
    "OJ.trainP.pred <- predict(OJ.poly, OJ.train)\n",
    "MSE(OJ.train$Purchase, OJ.trainP.pred)\n"
   ]
  },
  {
   "cell_type": "code",
   "execution_count": 25,
   "metadata": {
    "vscode": {
     "languageId": "r"
    }
   },
   "outputs": [
    {
     "data": {
      "text/html": [
       "0.22222"
      ],
      "text/latex": [
       "0.22222"
      ],
      "text/markdown": [
       "0.22222"
      ],
      "text/plain": [
       "[1] 0.22222"
      ]
     },
     "metadata": {},
     "output_type": "display_data"
    }
   ],
   "source": [
    "OJ.testP.pred <- predict(OJ.poly, OJ.test)\n",
    "MSE(OJ.test$Purchase, OJ.testP.pred)\n"
   ]
  },
  {
   "cell_type": "code",
   "execution_count": 26,
   "metadata": {
    "vscode": {
     "languageId": "r"
    }
   },
   "outputs": [],
   "source": [
    "set.seed(seed)\n"
   ]
  },
  {
   "cell_type": "code",
   "execution_count": 27,
   "metadata": {
    "vscode": {
     "languageId": "r"
    }
   },
   "outputs": [
    {
     "data": {
      "text/plain": [
       "\n",
       "Call:\n",
       "best.tune(METHOD = svm, train.x = Purchase ~ ., data = OJ.train, \n",
       "    ranges = list(cost = 10^seq(-2, 1, 0.1)), kernel = \"poly\", degree = 2)\n",
       "\n",
       "\n",
       "Parameters:\n",
       "   SVM-Type:  C-classification \n",
       " SVM-Kernel:  polynomial \n",
       "       cost:  2.511886 \n",
       "     degree:  2 \n",
       "     coef.0:  0 \n",
       "\n",
       "Number of Support Vectors:  394\n",
       "\n",
       " ( 199 195 )\n",
       "\n",
       "\n",
       "Number of Classes:  2 \n",
       "\n",
       "Levels: \n",
       " CH MM\n",
       "\n",
       "\n"
      ]
     },
     "metadata": {},
     "output_type": "display_data"
    }
   ],
   "source": [
    "poly.out <- tune(svm, Purchase ~ ., data = OJ.train, kernel = \"poly\", degree = 2, ranges = list(cost = 10**seq(-2, 1, 0.1)))\n",
    "poly.best <- poly.out$best.model\n",
    "summary(poly.best)\n"
   ]
  },
  {
   "cell_type": "code",
   "execution_count": 28,
   "metadata": {
    "vscode": {
     "languageId": "r"
    }
   },
   "outputs": [
    {
     "data": {
      "text/html": [
       "0.15625"
      ],
      "text/latex": [
       "0.15625"
      ],
      "text/markdown": [
       "0.15625"
      ],
      "text/plain": [
       "[1] 0.15625"
      ]
     },
     "metadata": {},
     "output_type": "display_data"
    }
   ],
   "source": [
    "poly.train.pred <- predict(poly.best, OJ.train)\n",
    "poly.trainMSE <- MSE(OJ.train$Purchase, poly.train.pred)\n",
    "poly.trainMSE\n"
   ]
  },
  {
   "cell_type": "code",
   "execution_count": 29,
   "metadata": {
    "vscode": {
     "languageId": "r"
    }
   },
   "outputs": [
    {
     "data": {
      "text/html": [
       "0.20741"
      ],
      "text/latex": [
       "0.20741"
      ],
      "text/markdown": [
       "0.20741"
      ],
      "text/plain": [
       "[1] 0.20741"
      ]
     },
     "metadata": {},
     "output_type": "display_data"
    }
   ],
   "source": [
    "poly.test.pred <- predict(poly.best, OJ.test)\n",
    "poly.testMSE <- MSE(OJ.test$Purchase, poly.test.pred)\n",
    "poly.testMSE\n"
   ]
  },
  {
   "cell_type": "markdown",
   "metadata": {},
   "source": [
    "## Part H\n"
   ]
  },
  {
   "cell_type": "code",
   "execution_count": 31,
   "metadata": {
    "vscode": {
     "languageId": "r"
    }
   },
   "outputs": [
    {
     "name": "stdout",
     "output_type": "stream",
     "text": [
      "[1] 0.165\n",
      "[1] 0.15556\n",
      "[1] 0.14875\n",
      "[1] 0.18148\n",
      "[1] 0.15625\n",
      "[1] 0.20741\n"
     ]
    }
   ],
   "source": [
    "print(linear.trainMSE)\n",
    "print(linear.testMSE)\n",
    "print(radial.trainMSE)\n",
    "print(radial.testMSE)\n",
    "print(poly.trainMSE)\n",
    "print(poly.testMSE)\n"
   ]
  }
 ],
 "metadata": {
  "kernelspec": {
   "display_name": "R",
   "language": "R",
   "name": "ir"
  },
  "language_info": {
   "codemirror_mode": "r",
   "file_extension": ".r",
   "mimetype": "text/x-r-source",
   "name": "R",
   "pygments_lexer": "r",
   "version": "4.2.2"
  },
  "orig_nbformat": 4,
  "vscode": {
   "interpreter": {
    "hash": "916dbcbb3f70747c44a77c7bcd40155683ae19c65e1c03b4aa3499c5328201f1"
   }
  }
 },
 "nbformat": 4,
 "nbformat_minor": 2
}
