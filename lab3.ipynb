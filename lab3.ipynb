{
 "cells": [
  {
   "cell_type": "markdown",
   "metadata": {},
   "source": [
    "### Loading liberary and dataset"
   ]
  },
  {
   "cell_type": "code",
   "execution_count": 25,
   "metadata": {
    "vscode": {
     "languageId": "r"
    }
   },
   "outputs": [],
   "source": [
    "library(ISLR2)\n",
    "library(MASS)\n",
    "library(class) "
   ]
  },
  {
   "cell_type": "markdown",
   "metadata": {},
   "source": [
    "### Dataset info"
   ]
  },
  {
   "cell_type": "code",
   "execution_count": 3,
   "metadata": {
    "vscode": {
     "languageId": "r"
    }
   },
   "outputs": [
    {
     "data": {
      "text/html": [
       "<style>\n",
       ".list-inline {list-style: none; margin:0; padding: 0}\n",
       ".list-inline>li {display: inline-block}\n",
       ".list-inline>li:not(:last-child)::after {content: \"\\00b7\"; padding: 0 .5ex}\n",
       "</style>\n",
       "<ol class=list-inline><li>'Year'</li><li>'Lag1'</li><li>'Lag2'</li><li>'Lag3'</li><li>'Lag4'</li><li>'Lag5'</li><li>'Volume'</li><li>'Today'</li><li>'Direction'</li></ol>\n"
      ],
      "text/latex": [
       "\\begin{enumerate*}\n",
       "\\item 'Year'\n",
       "\\item 'Lag1'\n",
       "\\item 'Lag2'\n",
       "\\item 'Lag3'\n",
       "\\item 'Lag4'\n",
       "\\item 'Lag5'\n",
       "\\item 'Volume'\n",
       "\\item 'Today'\n",
       "\\item 'Direction'\n",
       "\\end{enumerate*}\n"
      ],
      "text/markdown": [
       "1. 'Year'\n",
       "2. 'Lag1'\n",
       "3. 'Lag2'\n",
       "4. 'Lag3'\n",
       "5. 'Lag4'\n",
       "6. 'Lag5'\n",
       "7. 'Volume'\n",
       "8. 'Today'\n",
       "9. 'Direction'\n",
       "\n",
       "\n"
      ],
      "text/plain": [
       "[1] \"Year\"      \"Lag1\"      \"Lag2\"      \"Lag3\"      \"Lag4\"      \"Lag5\"     \n",
       "[7] \"Volume\"    \"Today\"     \"Direction\""
      ]
     },
     "metadata": {},
     "output_type": "display_data"
    },
    {
     "data": {
      "text/html": [
       "<style>\n",
       ".list-inline {list-style: none; margin:0; padding: 0}\n",
       ".list-inline>li {display: inline-block}\n",
       ".list-inline>li:not(:last-child)::after {content: \"\\00b7\"; padding: 0 .5ex}\n",
       "</style>\n",
       "<ol class=list-inline><li>1250</li><li>9</li></ol>\n"
      ],
      "text/latex": [
       "\\begin{enumerate*}\n",
       "\\item 1250\n",
       "\\item 9\n",
       "\\end{enumerate*}\n"
      ],
      "text/markdown": [
       "1. 1250\n",
       "2. 9\n",
       "\n",
       "\n"
      ],
      "text/plain": [
       "[1] 1250    9"
      ]
     },
     "metadata": {},
     "output_type": "display_data"
    }
   ],
   "source": [
    "names(Smarket)\n",
    "dim(Smarket)\n",
    "\n",
    "# Attach the dataset\n",
    "attach(Smarket)"
   ]
  },
  {
   "cell_type": "markdown",
   "metadata": {},
   "source": [
    "### Log linear regression"
   ]
  },
  {
   "cell_type": "code",
   "execution_count": 4,
   "metadata": {
    "vscode": {
     "languageId": "r"
    }
   },
   "outputs": [
    {
     "data": {
      "text/plain": [
       "\n",
       "Call:\n",
       "glm(formula = Direction ~ Lag1 + Lag2 + Lag3 + Lag4 + Lag5 + \n",
       "    Volume, family = binomial, data = Smarket)\n",
       "\n",
       "Deviance Residuals: \n",
       "   Min      1Q  Median      3Q     Max  \n",
       "-1.446  -1.203   1.065   1.145   1.326  \n",
       "\n",
       "Coefficients:\n",
       "             Estimate Std. Error z value Pr(>|z|)\n",
       "(Intercept) -0.126000   0.240736  -0.523    0.601\n",
       "Lag1        -0.073074   0.050167  -1.457    0.145\n",
       "Lag2        -0.042301   0.050086  -0.845    0.398\n",
       "Lag3         0.011085   0.049939   0.222    0.824\n",
       "Lag4         0.009359   0.049974   0.187    0.851\n",
       "Lag5         0.010313   0.049511   0.208    0.835\n",
       "Volume       0.135441   0.158360   0.855    0.392\n",
       "\n",
       "(Dispersion parameter for binomial family taken to be 1)\n",
       "\n",
       "    Null deviance: 1731.2  on 1249  degrees of freedom\n",
       "Residual deviance: 1727.6  on 1243  degrees of freedom\n",
       "AIC: 1741.6\n",
       "\n",
       "Number of Fisher Scoring iterations: 3\n"
      ]
     },
     "metadata": {},
     "output_type": "display_data"
    }
   ],
   "source": [
    "logistic.fit=glm(Direction~Lag1+Lag2+Lag3+Lag4+Lag5+Volume, data=Smarket, family=binomial)\n",
    "summary(logistic.fit)"
   ]
  },
  {
   "cell_type": "markdown",
   "metadata": {},
   "source": [
    "### Predictions base on glm"
   ]
  },
  {
   "cell_type": "code",
   "execution_count": 5,
   "metadata": {
    "vscode": {
     "languageId": "r"
    }
   },
   "outputs": [
    {
     "data": {
      "text/html": [
       "<style>\n",
       ".dl-inline {width: auto; margin:0; padding: 0}\n",
       ".dl-inline>dt, .dl-inline>dd {float: none; width: auto; display: inline-block}\n",
       ".dl-inline>dt::after {content: \":\\0020\"; padding-right: .5ex}\n",
       ".dl-inline>dt:not(:first-of-type) {padding-left: .5ex}\n",
       "</style><dl class=dl-inline><dt>1</dt><dd>0.507084133395402</dd><dt>2</dt><dd>0.481467878454591</dd><dt>3</dt><dd>0.481138835214201</dd><dt>4</dt><dd>0.515222355813022</dd><dt>5</dt><dd>0.510781162691538</dd><dt>6</dt><dd>0.506956460534911</dd><dt>7</dt><dd>0.492650874187038</dd><dt>8</dt><dd>0.509229158207377</dd><dt>9</dt><dd>0.517613526170958</dd><dt>10</dt><dd>0.488837779771376</dd></dl>\n"
      ],
      "text/latex": [
       "\\begin{description*}\n",
       "\\item[1] 0.507084133395402\n",
       "\\item[2] 0.481467878454591\n",
       "\\item[3] 0.481138835214201\n",
       "\\item[4] 0.515222355813022\n",
       "\\item[5] 0.510781162691538\n",
       "\\item[6] 0.506956460534911\n",
       "\\item[7] 0.492650874187038\n",
       "\\item[8] 0.509229158207377\n",
       "\\item[9] 0.517613526170958\n",
       "\\item[10] 0.488837779771376\n",
       "\\end{description*}\n"
      ],
      "text/markdown": [
       "1\n",
       ":   0.5070841333954022\n",
       ":   0.4814678784545913\n",
       ":   0.4811388352142014\n",
       ":   0.5152223558130225\n",
       ":   0.5107811626915386\n",
       ":   0.5069564605349117\n",
       ":   0.4926508741870388\n",
       ":   0.5092291582073779\n",
       ":   0.51761352617095810\n",
       ":   0.488837779771376\n",
       "\n"
      ],
      "text/plain": [
       "        1         2         3         4         5         6         7         8 \n",
       "0.5070841 0.4814679 0.4811388 0.5152224 0.5107812 0.5069565 0.4926509 0.5092292 \n",
       "        9        10 \n",
       "0.5176135 0.4888378 "
      ]
     },
     "metadata": {},
     "output_type": "display_data"
    }
   ],
   "source": [
    "logistic.probs=predict(logistic.fit, type=\"response\")\n",
    "logistic.probs[1:10]"
   ]
  },
  {
   "cell_type": "markdown",
   "metadata": {},
   "source": [
    "#### check dummy variable"
   ]
  },
  {
   "cell_type": "code",
   "execution_count": 6,
   "metadata": {
    "vscode": {
     "languageId": "r"
    }
   },
   "outputs": [
    {
     "data": {
      "text/html": [
       "<table class=\"dataframe\">\n",
       "<caption>A matrix: 2 × 1 of type dbl</caption>\n",
       "<thead>\n",
       "\t<tr><th></th><th scope=col>Up</th></tr>\n",
       "</thead>\n",
       "<tbody>\n",
       "\t<tr><th scope=row>Down</th><td>0</td></tr>\n",
       "\t<tr><th scope=row>Up</th><td>1</td></tr>\n",
       "</tbody>\n",
       "</table>\n"
      ],
      "text/latex": [
       "A matrix: 2 × 1 of type dbl\n",
       "\\begin{tabular}{r|l}\n",
       "  & Up\\\\\n",
       "\\hline\n",
       "\tDown & 0\\\\\n",
       "\tUp & 1\\\\\n",
       "\\end{tabular}\n"
      ],
      "text/markdown": [
       "\n",
       "A matrix: 2 × 1 of type dbl\n",
       "\n",
       "| <!--/--> | Up |\n",
       "|---|---|\n",
       "| Down | 0 |\n",
       "| Up | 1 |\n",
       "\n"
      ],
      "text/plain": [
       "     Up\n",
       "Down 0 \n",
       "Up   1 "
      ]
     },
     "metadata": {},
     "output_type": "display_data"
    }
   ],
   "source": [
    "contrasts(Direction)"
   ]
  },
  {
   "cell_type": "markdown",
   "metadata": {},
   "source": [
    "### Convert the prob to class"
   ]
  },
  {
   "cell_type": "code",
   "execution_count": 7,
   "metadata": {
    "vscode": {
     "languageId": "r"
    }
   },
   "outputs": [],
   "source": [
    "# Create all \"down\" array\n",
    "logistic.pred=rep(\"Down\", 1250)\n",
    "\n",
    "# Set threshold 0.5\n",
    "logistic.pred[logistic.probs>0.5]=\"Up\" "
   ]
  },
  {
   "cell_type": "markdown",
   "metadata": {},
   "source": [
    "### Cross Validation"
   ]
  },
  {
   "cell_type": "markdown",
   "metadata": {},
   "source": [
    "#### Step 1: Split data (2001~2004 for training, 2005 for test)"
   ]
  },
  {
   "cell_type": "code",
   "execution_count": 8,
   "metadata": {
    "vscode": {
     "languageId": "r"
    }
   },
   "outputs": [],
   "source": [
    "train=(Year<2005)\n",
    "Smarket.2005=Smarket[!train,] \n",
    "Direction.2005=Direction[!train]"
   ]
  },
  {
   "cell_type": "markdown",
   "metadata": {},
   "source": [
    "#### Step 2: Train model on training data"
   ]
  },
  {
   "cell_type": "code",
   "execution_count": 9,
   "metadata": {
    "vscode": {
     "languageId": "r"
    }
   },
   "outputs": [],
   "source": [
    "logistic.fit=glm(Direction~Lag1+Lag2+Lag3+Lag4+Lag5+Volume, data=Smarket, family=binomial, subset=train)"
   ]
  },
  {
   "cell_type": "markdown",
   "metadata": {},
   "source": [
    "#### tep 3: Make Prediction on test data"
   ]
  },
  {
   "cell_type": "code",
   "execution_count": 10,
   "metadata": {
    "vscode": {
     "languageId": "r"
    }
   },
   "outputs": [],
   "source": [
    "logistic.probs=predict(logistic.fit, Smarket.2005, type=\"response\")\n",
    "logistic.pred=rep(\"Down\", 252)\n",
    "\n",
    "# Length(Direction.2005)\n",
    "logistic.pred[logistic.probs>0.5]=\"Up\""
   ]
  },
  {
   "cell_type": "markdown",
   "metadata": {},
   "source": [
    "#### Step 4: Assess prediction accuracy "
   ]
  },
  {
   "cell_type": "code",
   "execution_count": 11,
   "metadata": {
    "vscode": {
     "languageId": "r"
    }
   },
   "outputs": [
    {
     "data": {
      "text/plain": [
       "             Direction.2005\n",
       "logistic.pred Down Up\n",
       "         Down   77 97\n",
       "         Up     34 44"
      ]
     },
     "metadata": {},
     "output_type": "display_data"
    },
    {
     "data": {
      "text/html": [
       "0.48015873015873"
      ],
      "text/latex": [
       "0.48015873015873"
      ],
      "text/markdown": [
       "0.48015873015873"
      ],
      "text/plain": [
       "[1] 0.4801587"
      ]
     },
     "metadata": {},
     "output_type": "display_data"
    }
   ],
   "source": [
    "table(logistic.pred, Direction.2005) \n",
    "mean(logistic.pred==Direction.2005)"
   ]
  },
  {
   "cell_type": "markdown",
   "metadata": {},
   "source": [
    "### LDA and QDA"
   ]
  },
  {
   "cell_type": "markdown",
   "metadata": {},
   "source": [
    "### Step 1 - Obtain dataset and Split it"
   ]
  },
  {
   "cell_type": "markdown",
   "metadata": {},
   "source": [
    "### Step 2 - Train model and predict"
   ]
  },
  {
   "cell_type": "code",
   "execution_count": 18,
   "metadata": {
    "vscode": {
     "languageId": "r"
    }
   },
   "outputs": [
    {
     "data": {
      "text/html": [
       "<style>\n",
       ".list-inline {list-style: none; margin:0; padding: 0}\n",
       ".list-inline>li {display: inline-block}\n",
       ".list-inline>li:not(:last-child)::after {content: \"\\00b7\"; padding: 0 .5ex}\n",
       "</style>\n",
       "<ol class=list-inline><li>'class'</li><li>'posterior'</li><li>'x'</li></ol>\n"
      ],
      "text/latex": [
       "\\begin{enumerate*}\n",
       "\\item 'class'\n",
       "\\item 'posterior'\n",
       "\\item 'x'\n",
       "\\end{enumerate*}\n"
      ],
      "text/markdown": [
       "1. 'class'\n",
       "2. 'posterior'\n",
       "3. 'x'\n",
       "\n",
       "\n"
      ],
      "text/plain": [
       "[1] \"class\"     \"posterior\" \"x\"        "
      ]
     },
     "metadata": {},
     "output_type": "display_data"
    }
   ],
   "source": [
    "lda.fit=lda(Direction~Lag1+Lag2, data=Smarket, subset=train) \n",
    "lda.pred = predict(lda.fit, Smarket.2005) \n",
    "names(lda.pred) \n",
    "\n",
    "# See what prediction contains \n",
    "# lda.pred$class \n",
    "# lda.pred$posterior"
   ]
  },
  {
   "cell_type": "markdown",
   "metadata": {},
   "source": [
    "### Step 3 - Calculate prediction accuracy"
   ]
  },
  {
   "cell_type": "code",
   "execution_count": 19,
   "metadata": {
    "vscode": {
     "languageId": "r"
    }
   },
   "outputs": [
    {
     "data": {
      "text/plain": [
       "         Direction.2005\n",
       "lda.class Down  Up\n",
       "     Down   35  35\n",
       "     Up     76 106"
      ]
     },
     "metadata": {},
     "output_type": "display_data"
    },
    {
     "data": {
      "text/html": [
       "0.55952380952381"
      ],
      "text/latex": [
       "0.55952380952381"
      ],
      "text/markdown": [
       "0.55952380952381"
      ],
      "text/plain": [
       "[1] 0.5595238"
      ]
     },
     "metadata": {},
     "output_type": "display_data"
    }
   ],
   "source": [
    "lda.class = lda.pred$class \n",
    "table(lda.class, Direction.2005) \n",
    "mean(lda.class==Direction.2005)"
   ]
  },
  {
   "cell_type": "markdown",
   "metadata": {},
   "source": [
    "### Step 4 - Change threshold (Extra)"
   ]
  },
  {
   "cell_type": "code",
   "execution_count": 20,
   "metadata": {
    "vscode": {
     "languageId": "r"
    }
   },
   "outputs": [
    {
     "data": {
      "text/plain": [
       "         Direction.2005\n",
       "lda.class Down  Up\n",
       "     Down    5   5\n",
       "     Up    106 136"
      ]
     },
     "metadata": {},
     "output_type": "display_data"
    },
    {
     "data": {
      "text/html": [
       "0.55952380952381"
      ],
      "text/latex": [
       "0.55952380952381"
      ],
      "text/markdown": [
       "0.55952380952381"
      ],
      "text/plain": [
       "[1] 0.5595238"
      ]
     },
     "metadata": {},
     "output_type": "display_data"
    }
   ],
   "source": [
    "lda.class = rep(\"Down\", length(Direction.2005))\n",
    "lda.class[lda.pred$posterior[,2]>0.49] = \"Up\"\n",
    "table(lda.class, Direction.2005) \n",
    "mean(lda.class==Direction.2005)"
   ]
  },
  {
   "cell_type": "markdown",
   "metadata": {},
   "source": [
    "### ROC curve of Logistic Regression"
   ]
  },
  {
   "cell_type": "code",
   "execution_count": 23,
   "metadata": {
    "vscode": {
     "languageId": "r"
    }
   },
   "outputs": [
    {
     "name": "stdout",
     "output_type": "stream",
     "text": [
      "        Predicted\n",
      "Observed   0   1\n",
      "    Down 114 488\n",
      "    Up    97 551\n"
     ]
    },
    {
     "data": {
      "text/html": [
       "<style>\n",
       ".dl-inline {width: auto; margin:0; padding: 0}\n",
       ".dl-inline>dt, .dl-inline>dd {float: none; width: auto; display: inline-block}\n",
       ".dl-inline>dt::after {content: \":\\0020\"; padding-right: .5ex}\n",
       ".dl-inline>dt:not(:first-of-type) {padding-left: .5ex}\n",
       "</style><dl class=dl-inline><dt>FPR</dt><dd>0.81063122923588</dd><dt>TPR</dt><dd>0.850308641975309</dd></dl>\n"
      ],
      "text/latex": [
       "\\begin{description*}\n",
       "\\item[FPR] 0.81063122923588\n",
       "\\item[TPR] 0.850308641975309\n",
       "\\end{description*}\n"
      ],
      "text/markdown": [
       "FPR\n",
       ":   0.81063122923588TPR\n",
       ":   0.850308641975309\n",
       "\n"
      ],
      "text/plain": [
       "      FPR       TPR \n",
       "0.8106312 0.8503086 "
      ]
     },
     "metadata": {},
     "output_type": "display_data"
    },
    {
     "data": {
      "image/png": "[encoded data removed]",
      "text/plain": [
       "plot without title"
      ]
     },
     "metadata": {
      "image/png": {
       "height": 420,
       "width": 420
      }
     },
     "output_type": "display_data"
    }
   ],
   "source": [
    "# fit logistic regression to all data (2001~2005) \n",
    "LR.fit = glm(Direction~Lag1+Lag2+Lag3, family=binomial, data=Smarket) \n",
    "# predict probability of \"UP\" \n",
    "LR.pred = predict(LR.fit, type=\"response\")\n",
    "\n",
    "# Calculate FPR and TPR under a given threshold\n",
    "roc.curve=function(s, print=FALSE){ \n",
    "    Ps=(LR.pred>s)*1 \n",
    "    FP=sum((Ps==1)*(Direction==\"Down\"))/sum(Direction==\"Down\")\n",
    "    TP=sum((Ps==1)*(Direction==\"Up\"))/sum(Direction==\"Up\") \n",
    "    if(print==TRUE){ \n",
    "        print(table(Observed=Direction, Predicted=Ps))\n",
    "    } \n",
    "    vect=c(FP, TP) \n",
    "    names(vect)=c(\"FPR\", \"TPR\") \n",
    "    return(vect) \n",
    "} \n",
    "\n",
    "threshold=0.5 \n",
    "roc.curve(threshold,print=TRUE) \n",
    "\n",
    "# Plot ROC curve \n",
    "ROC.curve=Vectorize(roc.curve) \n",
    "M.ROC=ROC.curve(seq(0,1,by=0.01))\n",
    "plot(M.ROC[1,], M.ROC[2,], col=\"grey\", lwd=2,type=\"l\", xlab=\"False positive rate\", ylab=\"True positive rate\")"
   ]
  },
  {
   "cell_type": "markdown",
   "metadata": {},
   "source": [
    "### ROC curve of LDA"
   ]
  },
  {
   "cell_type": "code",
   "execution_count": 24,
   "metadata": {
    "vscode": {
     "languageId": "r"
    }
   },
   "outputs": [
    {
     "name": "stdout",
     "output_type": "stream",
     "text": [
      "        Predicted\n",
      "Observed   0   1\n",
      "    Down 111 491\n",
      "    Up    97 551\n"
     ]
    },
    {
     "data": {
      "text/html": [
       "<style>\n",
       ".dl-inline {width: auto; margin:0; padding: 0}\n",
       ".dl-inline>dt, .dl-inline>dd {float: none; width: auto; display: inline-block}\n",
       ".dl-inline>dt::after {content: \":\\0020\"; padding-right: .5ex}\n",
       ".dl-inline>dt:not(:first-of-type) {padding-left: .5ex}\n",
       "</style><dl class=dl-inline><dt>FPR</dt><dd>0.815614617940199</dd><dt>TPR</dt><dd>0.850308641975309</dd></dl>\n"
      ],
      "text/latex": [
       "\\begin{description*}\n",
       "\\item[FPR] 0.815614617940199\n",
       "\\item[TPR] 0.850308641975309\n",
       "\\end{description*}\n"
      ],
      "text/markdown": [
       "FPR\n",
       ":   0.815614617940199TPR\n",
       ":   0.850308641975309\n",
       "\n"
      ],
      "text/plain": [
       "      FPR       TPR \n",
       "0.8156146 0.8503086 "
      ]
     },
     "metadata": {},
     "output_type": "display_data"
    },
    {
     "data": {
      "image/png": "[encoded data removed]",
      "text/plain": [
       "plot without title"
      ]
     },
     "metadata": {
      "image/png": {
       "height": 420,
       "width": 420
      }
     },
     "output_type": "display_data"
    }
   ],
   "source": [
    "LDA.fit = lda(Direction~Lag1+Lag2+Lag3, data=Smarket) \n",
    "# Predict probabilities of training data \n",
    "LDA.pred0 = predict(LDA.fit,type=\"response\") \n",
    "LDA.pred = LDA.pred0$posterior[,2]\n",
    "\n",
    "# Calculate FPR and TPR under a given threshold\n",
    "roc.curve=function(s, print=FALSE){ \n",
    "    Ps=(LDA.pred>s)*1 \n",
    "    FP=sum((Ps==1)*(Direction==\"Down\"))/sum(Direction==\"Down\")\n",
    "    TP=sum((Ps==1)*(Direction==\"Up\"))/sum(Direction==\"Up\") \n",
    "    if(print==TRUE){ \n",
    "        print(table(Observed=Direction, Predicted=Ps)) \n",
    "    } \n",
    "    vect=c(FP, TP) \n",
    "    names(vect)=c(\"FPR\", \"TPR\") \n",
    "    return(vect) \n",
    "} \n",
    "\n",
    "threshold=0.5 \n",
    "roc.curve(threshold,print=TRUE) \n",
    "\n",
    "# Plot ROC Curve \n",
    "ROC.curve=Vectorize(roc.curve) \n",
    "M.ROC=ROC.curve(seq(0,1,by=0.01))\n",
    "plot(M.ROC[1,], M.ROC[2,], col=\"blue\", lwd=2,type=\"l\", xlab=\"False positive rate\", ylab=\"True positive rate\")"
   ]
  },
  {
   "cell_type": "markdown",
   "metadata": {},
   "source": [
    "### KNN"
   ]
  },
  {
   "cell_type": "code",
   "execution_count": 27,
   "metadata": {
    "vscode": {
     "languageId": "r"
    }
   },
   "outputs": [
    {
     "data": {
      "text/plain": [
       "         Direction.2005\n",
       "knn.pred1 Down Up\n",
       "     Down   43 58\n",
       "     Up     68 83"
      ]
     },
     "metadata": {},
     "output_type": "display_data"
    },
    {
     "data": {
      "text/html": [
       "0.5"
      ],
      "text/latex": [
       "0.5"
      ],
      "text/markdown": [
       "0.5"
      ],
      "text/plain": [
       "[1] 0.5"
      ]
     },
     "metadata": {},
     "output_type": "display_data"
    },
    {
     "data": {
      "text/plain": [
       "         Direction.2005\n",
       "knn.pred2 Down Up\n",
       "     Down   48 56\n",
       "     Up     63 85"
      ]
     },
     "metadata": {},
     "output_type": "display_data"
    },
    {
     "data": {
      "text/html": [
       "0.527777777777778"
      ],
      "text/latex": [
       "0.527777777777778"
      ],
      "text/markdown": [
       "0.527777777777778"
      ],
      "text/plain": [
       "[1] 0.5277778"
      ]
     },
     "metadata": {},
     "output_type": "display_data"
    },
    {
     "data": {
      "text/plain": [
       "         Direction.2005\n",
       "knn.pred2 Down Up\n",
       "     Down   40 59\n",
       "     Up     71 82"
      ]
     },
     "metadata": {},
     "output_type": "display_data"
    },
    {
     "data": {
      "text/html": [
       "0.484126984126984"
      ],
      "text/latex": [
       "0.484126984126984"
      ],
      "text/markdown": [
       "0.484126984126984"
      ],
      "text/plain": [
       "[1] 0.484127"
      ]
     },
     "metadata": {},
     "output_type": "display_data"
    }
   ],
   "source": [
    "train=(Year<2005) \n",
    "\n",
    "# Training data of observation\n",
    "train.X=cbind(Lag1, Lag2)[train,]\n",
    "\n",
    "# Test data of observation \n",
    "test.X=cbind(Lag1, Lag2)[!train,]\n",
    "\n",
    "# Training data of response\n",
    "train.Direction=Direction[train]\n",
    "\n",
    "# Predict accuracy \n",
    "knn.pred1=knn(train.X, test.X, train.Direction, k=1) \n",
    "table(knn.pred1, Direction.2005) \n",
    "mean(knn.pred1==Direction.2005) \n",
    "\n",
    "# Change k to 3\n",
    "knn.pred2=knn(train.X, test.X, train.Direction, k=3) \n",
    "table(knn.pred2, Direction.2005) \n",
    "mean(knn.pred2==Direction.2005)\n",
    "\n",
    "# Change k to 5\n",
    "knn.pred2=knn(train.X, test.X, train.Direction, k=5) \n",
    "table(knn.pred2, Direction.2005) \n",
    "mean(knn.pred2==Direction.2005)"
   ]
  }
 ],
 "metadata": {
  "kernelspec": {
   "display_name": "R",
   "language": "R",
   "name": "ir"
  },
  "language_info": {
   "codemirror_mode": "r",
   "file_extension": ".r",
   "mimetype": "text/x-r-source",
   "name": "R",
   "pygments_lexer": "r",
   "version": "4.1.3"
  },
  "orig_nbformat": 4
 },
 "nbformat": 4,
 "nbformat_minor": 2
}
